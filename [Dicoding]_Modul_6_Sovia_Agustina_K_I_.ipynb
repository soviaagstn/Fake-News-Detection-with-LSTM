{
  "nbformat": 4,
  "nbformat_minor": 0,
  "metadata": {
    "colab": {
      "name": "[Dicoding]-Modul 6-Sovia Agustina K I-.ipynb",
      "provenance": [],
      "collapsed_sections": []
    },
    "kernelspec": {
      "display_name": "Python 3",
      "name": "python3"
    },
    "language_info": {
      "name": "python"
    }
  },
  "cells": [
    {
      "cell_type": "code",
      "metadata": {
        "id": "-8dXMEBI1xwh"
      },
      "source": [
        "import pandas as pd\n",
        "import numpy as np"
      ],
      "execution_count": null,
      "outputs": []
    },
    {
      "cell_type": "code",
      "metadata": {
        "colab": {
          "base_uri": "https://localhost:8080/",
          "height": 203
        },
        "id": "5rAq522o47qW",
        "outputId": "22b672f6-c202-4661-ddeb-d4feda121653"
      },
      "source": [
        "df1 = pd.read_csv(\"FA-KES-Dataset.csv\",encoding ='unicode_escape')\n",
        "df1.head()"
      ],
      "execution_count": null,
      "outputs": [
        {
          "output_type": "execute_result",
          "data": {
            "text/html": [
              "<div>\n",
              "<style scoped>\n",
              "    .dataframe tbody tr th:only-of-type {\n",
              "        vertical-align: middle;\n",
              "    }\n",
              "\n",
              "    .dataframe tbody tr th {\n",
              "        vertical-align: top;\n",
              "    }\n",
              "\n",
              "    .dataframe thead th {\n",
              "        text-align: right;\n",
              "    }\n",
              "</style>\n",
              "<table border=\"1\" class=\"dataframe\">\n",
              "  <thead>\n",
              "    <tr style=\"text-align: right;\">\n",
              "      <th></th>\n",
              "      <th>unit_id</th>\n",
              "      <th>article_title</th>\n",
              "      <th>article_content</th>\n",
              "      <th>source</th>\n",
              "      <th>date</th>\n",
              "      <th>location</th>\n",
              "      <th>labels</th>\n",
              "    </tr>\n",
              "  </thead>\n",
              "  <tbody>\n",
              "    <tr>\n",
              "      <th>0</th>\n",
              "      <td>1914947530</td>\n",
              "      <td>Syria attack symptoms consistent with nerve ag...</td>\n",
              "      <td>Wed 05 Apr 2017 Syria attack symptoms consiste...</td>\n",
              "      <td>nna</td>\n",
              "      <td>4/5/2017</td>\n",
              "      <td>idlib</td>\n",
              "      <td>0</td>\n",
              "    </tr>\n",
              "    <tr>\n",
              "      <th>1</th>\n",
              "      <td>1914947532</td>\n",
              "      <td>Homs governor says U.S. attack caused deaths b...</td>\n",
              "      <td>Fri 07 Apr 2017 at 0914 Homs governor says U.S...</td>\n",
              "      <td>nna</td>\n",
              "      <td>4/7/2017</td>\n",
              "      <td>homs</td>\n",
              "      <td>0</td>\n",
              "    </tr>\n",
              "    <tr>\n",
              "      <th>2</th>\n",
              "      <td>1914947533</td>\n",
              "      <td>Death toll from Aleppo bomb attack at least 112</td>\n",
              "      <td>Sun 16 Apr 2017 Death toll from Aleppo bomb at...</td>\n",
              "      <td>nna</td>\n",
              "      <td>4/16/2017</td>\n",
              "      <td>aleppo</td>\n",
              "      <td>0</td>\n",
              "    </tr>\n",
              "    <tr>\n",
              "      <th>3</th>\n",
              "      <td>1914947534</td>\n",
              "      <td>Aleppo bomb blast kills six Syrian state TV</td>\n",
              "      <td>Wed 19 Apr 2017 Aleppo bomb blast kills six Sy...</td>\n",
              "      <td>nna</td>\n",
              "      <td>4/19/2017</td>\n",
              "      <td>aleppo</td>\n",
              "      <td>0</td>\n",
              "    </tr>\n",
              "    <tr>\n",
              "      <th>4</th>\n",
              "      <td>1914947535</td>\n",
              "      <td>29 Syria Rebels Dead in Fighting for Key Alepp...</td>\n",
              "      <td>Sun 10 Jul 2016 29 Syria Rebels Dead in Fighti...</td>\n",
              "      <td>nna</td>\n",
              "      <td>7/10/2016</td>\n",
              "      <td>aleppo</td>\n",
              "      <td>0</td>\n",
              "    </tr>\n",
              "  </tbody>\n",
              "</table>\n",
              "</div>"
            ],
            "text/plain": [
              "      unit_id  ... labels\n",
              "0  1914947530  ...      0\n",
              "1  1914947532  ...      0\n",
              "2  1914947533  ...      0\n",
              "3  1914947534  ...      0\n",
              "4  1914947535  ...      0\n",
              "\n",
              "[5 rows x 7 columns]"
            ]
          },
          "metadata": {},
          "execution_count": 2
        }
      ]
    },
    {
      "cell_type": "code",
      "metadata": {
        "colab": {
          "base_uri": "https://localhost:8080/",
          "height": 417
        },
        "id": "COGxBE7hv8QT",
        "outputId": "105301bd-cebf-4536-bc2e-a791b20f64a0"
      },
      "source": [
        "df1 = df1.drop(['unit_id', 'article_title', 'source', 'date', 'location'], axis=1)\n",
        "df1.columns = ['news', 'label']\n",
        "df1"
      ],
      "execution_count": null,
      "outputs": [
        {
          "output_type": "execute_result",
          "data": {
            "text/html": [
              "<div>\n",
              "<style scoped>\n",
              "    .dataframe tbody tr th:only-of-type {\n",
              "        vertical-align: middle;\n",
              "    }\n",
              "\n",
              "    .dataframe tbody tr th {\n",
              "        vertical-align: top;\n",
              "    }\n",
              "\n",
              "    .dataframe thead th {\n",
              "        text-align: right;\n",
              "    }\n",
              "</style>\n",
              "<table border=\"1\" class=\"dataframe\">\n",
              "  <thead>\n",
              "    <tr style=\"text-align: right;\">\n",
              "      <th></th>\n",
              "      <th>news</th>\n",
              "      <th>label</th>\n",
              "    </tr>\n",
              "  </thead>\n",
              "  <tbody>\n",
              "    <tr>\n",
              "      <th>0</th>\n",
              "      <td>Wed 05 Apr 2017 Syria attack symptoms consiste...</td>\n",
              "      <td>0</td>\n",
              "    </tr>\n",
              "    <tr>\n",
              "      <th>1</th>\n",
              "      <td>Fri 07 Apr 2017 at 0914 Homs governor says U.S...</td>\n",
              "      <td>0</td>\n",
              "    </tr>\n",
              "    <tr>\n",
              "      <th>2</th>\n",
              "      <td>Sun 16 Apr 2017 Death toll from Aleppo bomb at...</td>\n",
              "      <td>0</td>\n",
              "    </tr>\n",
              "    <tr>\n",
              "      <th>3</th>\n",
              "      <td>Wed 19 Apr 2017 Aleppo bomb blast kills six Sy...</td>\n",
              "      <td>0</td>\n",
              "    </tr>\n",
              "    <tr>\n",
              "      <th>4</th>\n",
              "      <td>Sun 10 Jul 2016 29 Syria Rebels Dead in Fighti...</td>\n",
              "      <td>0</td>\n",
              "    </tr>\n",
              "    <tr>\n",
              "      <th>...</th>\n",
              "      <td>...</td>\n",
              "      <td>...</td>\n",
              "    </tr>\n",
              "    <tr>\n",
              "      <th>799</th>\n",
              "      <td>28-08-2016 Turkish Bombardment Kills 20 Civili...</td>\n",
              "      <td>1</td>\n",
              "    </tr>\n",
              "    <tr>\n",
              "      <th>800</th>\n",
              "      <td>17-08-2016 Martyrs as Terrorists Shell Aleppos...</td>\n",
              "      <td>1</td>\n",
              "    </tr>\n",
              "    <tr>\n",
              "      <th>801</th>\n",
              "      <td>03-08-2016 Chemical Attack Kills Five Syrians ...</td>\n",
              "      <td>0</td>\n",
              "    </tr>\n",
              "    <tr>\n",
              "      <th>802</th>\n",
              "      <td>01-08-2016 5 Killed as Russian Military Choppe...</td>\n",
              "      <td>1</td>\n",
              "    </tr>\n",
              "    <tr>\n",
              "      <th>803</th>\n",
              "      <td>April 6 2017 Syrian Army Kills 48 ISIL Terrori...</td>\n",
              "      <td>1</td>\n",
              "    </tr>\n",
              "  </tbody>\n",
              "</table>\n",
              "<p>804 rows × 2 columns</p>\n",
              "</div>"
            ],
            "text/plain": [
              "                                                  news  label\n",
              "0    Wed 05 Apr 2017 Syria attack symptoms consiste...      0\n",
              "1    Fri 07 Apr 2017 at 0914 Homs governor says U.S...      0\n",
              "2    Sun 16 Apr 2017 Death toll from Aleppo bomb at...      0\n",
              "3    Wed 19 Apr 2017 Aleppo bomb blast kills six Sy...      0\n",
              "4    Sun 10 Jul 2016 29 Syria Rebels Dead in Fighti...      0\n",
              "..                                                 ...    ...\n",
              "799  28-08-2016 Turkish Bombardment Kills 20 Civili...      1\n",
              "800  17-08-2016 Martyrs as Terrorists Shell Aleppos...      1\n",
              "801  03-08-2016 Chemical Attack Kills Five Syrians ...      0\n",
              "802  01-08-2016 5 Killed as Russian Military Choppe...      1\n",
              "803  April 6 2017 Syrian Army Kills 48 ISIL Terrori...      1\n",
              "\n",
              "[804 rows x 2 columns]"
            ]
          },
          "metadata": {},
          "execution_count": 3
        }
      ]
    },
    {
      "cell_type": "code",
      "metadata": {
        "colab": {
          "base_uri": "https://localhost:8080/",
          "height": 220
        },
        "id": "JVVHuWyz6YfC",
        "outputId": "442f7ea3-7b3f-4f8b-ffef-3781a7f018d3"
      },
      "source": [
        "df2 = pd.read_csv(\"fakenews-dataset.csv\",error_bad_lines=False, engine=\"python\")\n",
        "df2.head()"
      ],
      "execution_count": null,
      "outputs": [
        {
          "output_type": "stream",
          "name": "stderr",
          "text": [
            "Skipping line 6067: unexpected end of data\n"
          ]
        },
        {
          "output_type": "execute_result",
          "data": {
            "text/html": [
              "<div>\n",
              "<style scoped>\n",
              "    .dataframe tbody tr th:only-of-type {\n",
              "        vertical-align: middle;\n",
              "    }\n",
              "\n",
              "    .dataframe tbody tr th {\n",
              "        vertical-align: top;\n",
              "    }\n",
              "\n",
              "    .dataframe thead th {\n",
              "        text-align: right;\n",
              "    }\n",
              "</style>\n",
              "<table border=\"1\" class=\"dataframe\">\n",
              "  <thead>\n",
              "    <tr style=\"text-align: right;\">\n",
              "      <th></th>\n",
              "      <th>Unnamed: 0</th>\n",
              "      <th>id</th>\n",
              "      <th>headline</th>\n",
              "      <th>written_by</th>\n",
              "      <th>news</th>\n",
              "      <th>label</th>\n",
              "    </tr>\n",
              "  </thead>\n",
              "  <tbody>\n",
              "    <tr>\n",
              "      <th>0</th>\n",
              "      <td>0</td>\n",
              "      <td>9653</td>\n",
              "      <td>Ethics Questions Dogged Agriculture Nominee as...</td>\n",
              "      <td>Eric Lipton and Steve Eder</td>\n",
              "      <td>WASHINGTON  —   In Sonny Perdue’s telling, Geo...</td>\n",
              "      <td>0</td>\n",
              "    </tr>\n",
              "    <tr>\n",
              "      <th>1</th>\n",
              "      <td>1</td>\n",
              "      <td>10041</td>\n",
              "      <td>U.S. Must Dig Deep to Stop Argentina’s Lionel ...</td>\n",
              "      <td>David Waldstein</td>\n",
              "      <td>HOUSTON  —   Venezuela had a plan. It was a ta...</td>\n",
              "      <td>0</td>\n",
              "    </tr>\n",
              "    <tr>\n",
              "      <th>2</th>\n",
              "      <td>2</td>\n",
              "      <td>19113</td>\n",
              "      <td>Cotton to House: ’Do Not Walk the Plank and Vo...</td>\n",
              "      <td>Pam Key</td>\n",
              "      <td>Sunday on ABC’s “This Week,” while discussing ...</td>\n",
              "      <td>0</td>\n",
              "    </tr>\n",
              "    <tr>\n",
              "      <th>3</th>\n",
              "      <td>3</td>\n",
              "      <td>6868</td>\n",
              "      <td>Paul LePage, Besieged Maine Governor, Sends Co...</td>\n",
              "      <td>Jess Bidgood</td>\n",
              "      <td>AUGUSTA, Me.  —   The beleaguered Republican g...</td>\n",
              "      <td>0</td>\n",
              "    </tr>\n",
              "    <tr>\n",
              "      <th>4</th>\n",
              "      <td>4</td>\n",
              "      <td>7596</td>\n",
              "      <td>A Digital 9/11 If Trump Wins</td>\n",
              "      <td>Finian Cunningham</td>\n",
              "      <td>Finian Cunningham has written extensively on...</td>\n",
              "      <td>1</td>\n",
              "    </tr>\n",
              "  </tbody>\n",
              "</table>\n",
              "</div>"
            ],
            "text/plain": [
              "   Unnamed: 0     id  ...                                               news label\n",
              "0           0   9653  ...  WASHINGTON  —   In Sonny Perdue’s telling, Geo...     0\n",
              "1           1  10041  ...  HOUSTON  —   Venezuela had a plan. It was a ta...     0\n",
              "2           2  19113  ...  Sunday on ABC’s “This Week,” while discussing ...     0\n",
              "3           3   6868  ...  AUGUSTA, Me.  —   The beleaguered Republican g...     0\n",
              "4           4   7596  ...    Finian Cunningham has written extensively on...     1\n",
              "\n",
              "[5 rows x 6 columns]"
            ]
          },
          "metadata": {},
          "execution_count": 4
        }
      ]
    },
    {
      "cell_type": "code",
      "metadata": {
        "colab": {
          "base_uri": "https://localhost:8080/",
          "height": 203
        },
        "id": "qc8sWnja0h4C",
        "outputId": "77202485-3460-4cf3-f8dd-882bae546a8f"
      },
      "source": [
        "df2.columns = ['number', 'id', 'headline', 'written_by', 'news', 'label']\n",
        "df2.head()"
      ],
      "execution_count": null,
      "outputs": [
        {
          "output_type": "execute_result",
          "data": {
            "text/html": [
              "<div>\n",
              "<style scoped>\n",
              "    .dataframe tbody tr th:only-of-type {\n",
              "        vertical-align: middle;\n",
              "    }\n",
              "\n",
              "    .dataframe tbody tr th {\n",
              "        vertical-align: top;\n",
              "    }\n",
              "\n",
              "    .dataframe thead th {\n",
              "        text-align: right;\n",
              "    }\n",
              "</style>\n",
              "<table border=\"1\" class=\"dataframe\">\n",
              "  <thead>\n",
              "    <tr style=\"text-align: right;\">\n",
              "      <th></th>\n",
              "      <th>number</th>\n",
              "      <th>id</th>\n",
              "      <th>headline</th>\n",
              "      <th>written_by</th>\n",
              "      <th>news</th>\n",
              "      <th>label</th>\n",
              "    </tr>\n",
              "  </thead>\n",
              "  <tbody>\n",
              "    <tr>\n",
              "      <th>0</th>\n",
              "      <td>0</td>\n",
              "      <td>9653</td>\n",
              "      <td>Ethics Questions Dogged Agriculture Nominee as...</td>\n",
              "      <td>Eric Lipton and Steve Eder</td>\n",
              "      <td>WASHINGTON  —   In Sonny Perdue’s telling, Geo...</td>\n",
              "      <td>0</td>\n",
              "    </tr>\n",
              "    <tr>\n",
              "      <th>1</th>\n",
              "      <td>1</td>\n",
              "      <td>10041</td>\n",
              "      <td>U.S. Must Dig Deep to Stop Argentina’s Lionel ...</td>\n",
              "      <td>David Waldstein</td>\n",
              "      <td>HOUSTON  —   Venezuela had a plan. It was a ta...</td>\n",
              "      <td>0</td>\n",
              "    </tr>\n",
              "    <tr>\n",
              "      <th>2</th>\n",
              "      <td>2</td>\n",
              "      <td>19113</td>\n",
              "      <td>Cotton to House: ’Do Not Walk the Plank and Vo...</td>\n",
              "      <td>Pam Key</td>\n",
              "      <td>Sunday on ABC’s “This Week,” while discussing ...</td>\n",
              "      <td>0</td>\n",
              "    </tr>\n",
              "    <tr>\n",
              "      <th>3</th>\n",
              "      <td>3</td>\n",
              "      <td>6868</td>\n",
              "      <td>Paul LePage, Besieged Maine Governor, Sends Co...</td>\n",
              "      <td>Jess Bidgood</td>\n",
              "      <td>AUGUSTA, Me.  —   The beleaguered Republican g...</td>\n",
              "      <td>0</td>\n",
              "    </tr>\n",
              "    <tr>\n",
              "      <th>4</th>\n",
              "      <td>4</td>\n",
              "      <td>7596</td>\n",
              "      <td>A Digital 9/11 If Trump Wins</td>\n",
              "      <td>Finian Cunningham</td>\n",
              "      <td>Finian Cunningham has written extensively on...</td>\n",
              "      <td>1</td>\n",
              "    </tr>\n",
              "  </tbody>\n",
              "</table>\n",
              "</div>"
            ],
            "text/plain": [
              "   number     id  ...                                               news label\n",
              "0       0   9653  ...  WASHINGTON  —   In Sonny Perdue’s telling, Geo...     0\n",
              "1       1  10041  ...  HOUSTON  —   Venezuela had a plan. It was a ta...     0\n",
              "2       2  19113  ...  Sunday on ABC’s “This Week,” while discussing ...     0\n",
              "3       3   6868  ...  AUGUSTA, Me.  —   The beleaguered Republican g...     0\n",
              "4       4   7596  ...    Finian Cunningham has written extensively on...     1\n",
              "\n",
              "[5 rows x 6 columns]"
            ]
          },
          "metadata": {},
          "execution_count": 5
        }
      ]
    },
    {
      "cell_type": "code",
      "metadata": {
        "colab": {
          "base_uri": "https://localhost:8080/",
          "height": 203
        },
        "id": "J-e29wrr2ecR",
        "outputId": "8fb92ca0-27c3-468c-d626-a9b6edeb6341"
      },
      "source": [
        "df2 = df2.drop(['number', 'id', 'headline', 'written_by'], axis = 1)\n",
        "df2 = df2[:550]\n",
        "df2.head()"
      ],
      "execution_count": null,
      "outputs": [
        {
          "output_type": "execute_result",
          "data": {
            "text/html": [
              "<div>\n",
              "<style scoped>\n",
              "    .dataframe tbody tr th:only-of-type {\n",
              "        vertical-align: middle;\n",
              "    }\n",
              "\n",
              "    .dataframe tbody tr th {\n",
              "        vertical-align: top;\n",
              "    }\n",
              "\n",
              "    .dataframe thead th {\n",
              "        text-align: right;\n",
              "    }\n",
              "</style>\n",
              "<table border=\"1\" class=\"dataframe\">\n",
              "  <thead>\n",
              "    <tr style=\"text-align: right;\">\n",
              "      <th></th>\n",
              "      <th>news</th>\n",
              "      <th>label</th>\n",
              "    </tr>\n",
              "  </thead>\n",
              "  <tbody>\n",
              "    <tr>\n",
              "      <th>0</th>\n",
              "      <td>WASHINGTON  —   In Sonny Perdue’s telling, Geo...</td>\n",
              "      <td>0</td>\n",
              "    </tr>\n",
              "    <tr>\n",
              "      <th>1</th>\n",
              "      <td>HOUSTON  —   Venezuela had a plan. It was a ta...</td>\n",
              "      <td>0</td>\n",
              "    </tr>\n",
              "    <tr>\n",
              "      <th>2</th>\n",
              "      <td>Sunday on ABC’s “This Week,” while discussing ...</td>\n",
              "      <td>0</td>\n",
              "    </tr>\n",
              "    <tr>\n",
              "      <th>3</th>\n",
              "      <td>AUGUSTA, Me.  —   The beleaguered Republican g...</td>\n",
              "      <td>0</td>\n",
              "    </tr>\n",
              "    <tr>\n",
              "      <th>4</th>\n",
              "      <td>Finian Cunningham has written extensively on...</td>\n",
              "      <td>1</td>\n",
              "    </tr>\n",
              "  </tbody>\n",
              "</table>\n",
              "</div>"
            ],
            "text/plain": [
              "                                                news  label\n",
              "0  WASHINGTON  —   In Sonny Perdue’s telling, Geo...      0\n",
              "1  HOUSTON  —   Venezuela had a plan. It was a ta...      0\n",
              "2  Sunday on ABC’s “This Week,” while discussing ...      0\n",
              "3  AUGUSTA, Me.  —   The beleaguered Republican g...      0\n",
              "4    Finian Cunningham has written extensively on...      1"
            ]
          },
          "metadata": {},
          "execution_count": 6
        }
      ]
    },
    {
      "cell_type": "code",
      "metadata": {
        "colab": {
          "base_uri": "https://localhost:8080/",
          "height": 417
        },
        "id": "rr_GqAacYIX7",
        "outputId": "454de307-7c98-4394-860a-fa8b7e9bc15c"
      },
      "source": [
        "df2"
      ],
      "execution_count": null,
      "outputs": [
        {
          "output_type": "execute_result",
          "data": {
            "text/html": [
              "<div>\n",
              "<style scoped>\n",
              "    .dataframe tbody tr th:only-of-type {\n",
              "        vertical-align: middle;\n",
              "    }\n",
              "\n",
              "    .dataframe tbody tr th {\n",
              "        vertical-align: top;\n",
              "    }\n",
              "\n",
              "    .dataframe thead th {\n",
              "        text-align: right;\n",
              "    }\n",
              "</style>\n",
              "<table border=\"1\" class=\"dataframe\">\n",
              "  <thead>\n",
              "    <tr style=\"text-align: right;\">\n",
              "      <th></th>\n",
              "      <th>news</th>\n",
              "      <th>label</th>\n",
              "    </tr>\n",
              "  </thead>\n",
              "  <tbody>\n",
              "    <tr>\n",
              "      <th>0</th>\n",
              "      <td>WASHINGTON  —   In Sonny Perdue’s telling, Geo...</td>\n",
              "      <td>0</td>\n",
              "    </tr>\n",
              "    <tr>\n",
              "      <th>1</th>\n",
              "      <td>HOUSTON  —   Venezuela had a plan. It was a ta...</td>\n",
              "      <td>0</td>\n",
              "    </tr>\n",
              "    <tr>\n",
              "      <th>2</th>\n",
              "      <td>Sunday on ABC’s “This Week,” while discussing ...</td>\n",
              "      <td>0</td>\n",
              "    </tr>\n",
              "    <tr>\n",
              "      <th>3</th>\n",
              "      <td>AUGUSTA, Me.  —   The beleaguered Republican g...</td>\n",
              "      <td>0</td>\n",
              "    </tr>\n",
              "    <tr>\n",
              "      <th>4</th>\n",
              "      <td>Finian Cunningham has written extensively on...</td>\n",
              "      <td>1</td>\n",
              "    </tr>\n",
              "    <tr>\n",
              "      <th>...</th>\n",
              "      <td>...</td>\n",
              "      <td>...</td>\n",
              "    </tr>\n",
              "    <tr>\n",
              "      <th>545</th>\n",
              "      <td>ERBIL, Iraq  —   Mosul’s residents are hoardin...</td>\n",
              "      <td>0</td>\n",
              "    </tr>\n",
              "    <tr>\n",
              "      <th>546</th>\n",
              "      <td>Leave a Reply Click here to get more info on f...</td>\n",
              "      <td>1</td>\n",
              "    </tr>\n",
              "    <tr>\n",
              "      <th>547</th>\n",
              "      <td>People in parts of South America and Africa we...</td>\n",
              "      <td>0</td>\n",
              "    </tr>\n",
              "    <tr>\n",
              "      <th>548</th>\n",
              "      <td>Не верьте больше в Санту, дети, он хуже всех в...</td>\n",
              "      <td>1</td>\n",
              "    </tr>\n",
              "    <tr>\n",
              "      <th>549</th>\n",
              "      <td>Sen. Ted Cruz ( ) commended   Donald Trump’s c...</td>\n",
              "      <td>0</td>\n",
              "    </tr>\n",
              "  </tbody>\n",
              "</table>\n",
              "<p>550 rows × 2 columns</p>\n",
              "</div>"
            ],
            "text/plain": [
              "                                                  news  label\n",
              "0    WASHINGTON  —   In Sonny Perdue’s telling, Geo...      0\n",
              "1    HOUSTON  —   Venezuela had a plan. It was a ta...      0\n",
              "2    Sunday on ABC’s “This Week,” while discussing ...      0\n",
              "3    AUGUSTA, Me.  —   The beleaguered Republican g...      0\n",
              "4      Finian Cunningham has written extensively on...      1\n",
              "..                                                 ...    ...\n",
              "545  ERBIL, Iraq  —   Mosul’s residents are hoardin...      0\n",
              "546  Leave a Reply Click here to get more info on f...      1\n",
              "547  People in parts of South America and Africa we...      0\n",
              "548  Не верьте больше в Санту, дети, он хуже всех в...      1\n",
              "549  Sen. Ted Cruz ( ) commended   Donald Trump’s c...      0\n",
              "\n",
              "[550 rows x 2 columns]"
            ]
          },
          "metadata": {},
          "execution_count": 7
        }
      ]
    },
    {
      "cell_type": "code",
      "metadata": {
        "colab": {
          "base_uri": "https://localhost:8080/",
          "height": 417
        },
        "id": "BFuwgvS_7mdF",
        "outputId": "9c25b61e-49d0-421d-8c42-0a9d5eb9907d"
      },
      "source": [
        "df = pd.concat([df1, df2])\n",
        "df"
      ],
      "execution_count": null,
      "outputs": [
        {
          "output_type": "execute_result",
          "data": {
            "text/html": [
              "<div>\n",
              "<style scoped>\n",
              "    .dataframe tbody tr th:only-of-type {\n",
              "        vertical-align: middle;\n",
              "    }\n",
              "\n",
              "    .dataframe tbody tr th {\n",
              "        vertical-align: top;\n",
              "    }\n",
              "\n",
              "    .dataframe thead th {\n",
              "        text-align: right;\n",
              "    }\n",
              "</style>\n",
              "<table border=\"1\" class=\"dataframe\">\n",
              "  <thead>\n",
              "    <tr style=\"text-align: right;\">\n",
              "      <th></th>\n",
              "      <th>news</th>\n",
              "      <th>label</th>\n",
              "    </tr>\n",
              "  </thead>\n",
              "  <tbody>\n",
              "    <tr>\n",
              "      <th>0</th>\n",
              "      <td>Wed 05 Apr 2017 Syria attack symptoms consiste...</td>\n",
              "      <td>0</td>\n",
              "    </tr>\n",
              "    <tr>\n",
              "      <th>1</th>\n",
              "      <td>Fri 07 Apr 2017 at 0914 Homs governor says U.S...</td>\n",
              "      <td>0</td>\n",
              "    </tr>\n",
              "    <tr>\n",
              "      <th>2</th>\n",
              "      <td>Sun 16 Apr 2017 Death toll from Aleppo bomb at...</td>\n",
              "      <td>0</td>\n",
              "    </tr>\n",
              "    <tr>\n",
              "      <th>3</th>\n",
              "      <td>Wed 19 Apr 2017 Aleppo bomb blast kills six Sy...</td>\n",
              "      <td>0</td>\n",
              "    </tr>\n",
              "    <tr>\n",
              "      <th>4</th>\n",
              "      <td>Sun 10 Jul 2016 29 Syria Rebels Dead in Fighti...</td>\n",
              "      <td>0</td>\n",
              "    </tr>\n",
              "    <tr>\n",
              "      <th>...</th>\n",
              "      <td>...</td>\n",
              "      <td>...</td>\n",
              "    </tr>\n",
              "    <tr>\n",
              "      <th>545</th>\n",
              "      <td>ERBIL, Iraq  —   Mosul’s residents are hoardin...</td>\n",
              "      <td>0</td>\n",
              "    </tr>\n",
              "    <tr>\n",
              "      <th>546</th>\n",
              "      <td>Leave a Reply Click here to get more info on f...</td>\n",
              "      <td>1</td>\n",
              "    </tr>\n",
              "    <tr>\n",
              "      <th>547</th>\n",
              "      <td>People in parts of South America and Africa we...</td>\n",
              "      <td>0</td>\n",
              "    </tr>\n",
              "    <tr>\n",
              "      <th>548</th>\n",
              "      <td>Не верьте больше в Санту, дети, он хуже всех в...</td>\n",
              "      <td>1</td>\n",
              "    </tr>\n",
              "    <tr>\n",
              "      <th>549</th>\n",
              "      <td>Sen. Ted Cruz ( ) commended   Donald Trump’s c...</td>\n",
              "      <td>0</td>\n",
              "    </tr>\n",
              "  </tbody>\n",
              "</table>\n",
              "<p>1354 rows × 2 columns</p>\n",
              "</div>"
            ],
            "text/plain": [
              "                                                  news  label\n",
              "0    Wed 05 Apr 2017 Syria attack symptoms consiste...      0\n",
              "1    Fri 07 Apr 2017 at 0914 Homs governor says U.S...      0\n",
              "2    Sun 16 Apr 2017 Death toll from Aleppo bomb at...      0\n",
              "3    Wed 19 Apr 2017 Aleppo bomb blast kills six Sy...      0\n",
              "4    Sun 10 Jul 2016 29 Syria Rebels Dead in Fighti...      0\n",
              "..                                                 ...    ...\n",
              "545  ERBIL, Iraq  —   Mosul’s residents are hoardin...      0\n",
              "546  Leave a Reply Click here to get more info on f...      1\n",
              "547  People in parts of South America and Africa we...      0\n",
              "548  Не верьте больше в Санту, дети, он хуже всех в...      1\n",
              "549  Sen. Ted Cruz ( ) commended   Donald Trump’s c...      0\n",
              "\n",
              "[1354 rows x 2 columns]"
            ]
          },
          "metadata": {},
          "execution_count": 8
        }
      ]
    },
    {
      "cell_type": "code",
      "metadata": {
        "colab": {
          "base_uri": "https://localhost:8080/"
        },
        "id": "lb2gJaFaB6ox",
        "outputId": "264eb6d7-5d1c-4760-beef-13cce70339d4"
      },
      "source": [
        "# Count how many hoax and valid label\n",
        "df['label'].value_counts()"
      ],
      "execution_count": null,
      "outputs": [
        {
          "output_type": "execute_result",
          "data": {
            "text/plain": [
              "1    699\n",
              "0    655\n",
              "Name: label, dtype: int64"
            ]
          },
          "metadata": {},
          "execution_count": 9
        }
      ]
    },
    {
      "cell_type": "markdown",
      "metadata": {
        "id": "ofF5-WR7_R3i"
      },
      "source": [
        "**Preprocessing Dataset**"
      ]
    },
    {
      "cell_type": "code",
      "metadata": {
        "id": "YH25V2PW_QRD"
      },
      "source": [
        "# Remove Punctuation\n",
        "\n",
        "import string\n",
        "\n",
        "def remove_punct(text):\n",
        "  removed = \"\".join([i for i in text if i not in string.punctuation])\n",
        "  return removed"
      ],
      "execution_count": null,
      "outputs": []
    },
    {
      "cell_type": "code",
      "metadata": {
        "colab": {
          "base_uri": "https://localhost:8080/",
          "height": 203
        },
        "id": "YNVGpTCBClJS",
        "outputId": "9ddec084-568d-4415-9ec1-ddb99520dc6a"
      },
      "source": [
        "df['news'] = df['news'].apply(lambda x:remove_punct(x))\n",
        "df.head()"
      ],
      "execution_count": null,
      "outputs": [
        {
          "output_type": "execute_result",
          "data": {
            "text/html": [
              "<div>\n",
              "<style scoped>\n",
              "    .dataframe tbody tr th:only-of-type {\n",
              "        vertical-align: middle;\n",
              "    }\n",
              "\n",
              "    .dataframe tbody tr th {\n",
              "        vertical-align: top;\n",
              "    }\n",
              "\n",
              "    .dataframe thead th {\n",
              "        text-align: right;\n",
              "    }\n",
              "</style>\n",
              "<table border=\"1\" class=\"dataframe\">\n",
              "  <thead>\n",
              "    <tr style=\"text-align: right;\">\n",
              "      <th></th>\n",
              "      <th>news</th>\n",
              "      <th>label</th>\n",
              "    </tr>\n",
              "  </thead>\n",
              "  <tbody>\n",
              "    <tr>\n",
              "      <th>0</th>\n",
              "      <td>Wed 05 Apr 2017 Syria attack symptoms consiste...</td>\n",
              "      <td>0</td>\n",
              "    </tr>\n",
              "    <tr>\n",
              "      <th>1</th>\n",
              "      <td>Fri 07 Apr 2017 at 0914 Homs governor says US ...</td>\n",
              "      <td>0</td>\n",
              "    </tr>\n",
              "    <tr>\n",
              "      <th>2</th>\n",
              "      <td>Sun 16 Apr 2017 Death toll from Aleppo bomb at...</td>\n",
              "      <td>0</td>\n",
              "    </tr>\n",
              "    <tr>\n",
              "      <th>3</th>\n",
              "      <td>Wed 19 Apr 2017 Aleppo bomb blast kills six Sy...</td>\n",
              "      <td>0</td>\n",
              "    </tr>\n",
              "    <tr>\n",
              "      <th>4</th>\n",
              "      <td>Sun 10 Jul 2016 29 Syria Rebels Dead in Fighti...</td>\n",
              "      <td>0</td>\n",
              "    </tr>\n",
              "  </tbody>\n",
              "</table>\n",
              "</div>"
            ],
            "text/plain": [
              "                                                news  label\n",
              "0  Wed 05 Apr 2017 Syria attack symptoms consiste...      0\n",
              "1  Fri 07 Apr 2017 at 0914 Homs governor says US ...      0\n",
              "2  Sun 16 Apr 2017 Death toll from Aleppo bomb at...      0\n",
              "3  Wed 19 Apr 2017 Aleppo bomb blast kills six Sy...      0\n",
              "4  Sun 10 Jul 2016 29 Syria Rebels Dead in Fighti...      0"
            ]
          },
          "metadata": {},
          "execution_count": 11
        }
      ]
    },
    {
      "cell_type": "code",
      "metadata": {
        "id": "-t0SVozFC3Ph",
        "colab": {
          "base_uri": "https://localhost:8080/",
          "height": 417
        },
        "outputId": "c8d05dc4-2bbf-4ef0-edd1-bd2ba4feff26"
      },
      "source": [
        "# Lowercase All Words in Sentences\n",
        "\n",
        "df['news'] = df.news.str.lower()\n",
        "df"
      ],
      "execution_count": null,
      "outputs": [
        {
          "output_type": "execute_result",
          "data": {
            "text/html": [
              "<div>\n",
              "<style scoped>\n",
              "    .dataframe tbody tr th:only-of-type {\n",
              "        vertical-align: middle;\n",
              "    }\n",
              "\n",
              "    .dataframe tbody tr th {\n",
              "        vertical-align: top;\n",
              "    }\n",
              "\n",
              "    .dataframe thead th {\n",
              "        text-align: right;\n",
              "    }\n",
              "</style>\n",
              "<table border=\"1\" class=\"dataframe\">\n",
              "  <thead>\n",
              "    <tr style=\"text-align: right;\">\n",
              "      <th></th>\n",
              "      <th>news</th>\n",
              "      <th>label</th>\n",
              "    </tr>\n",
              "  </thead>\n",
              "  <tbody>\n",
              "    <tr>\n",
              "      <th>0</th>\n",
              "      <td>wed 05 apr 2017 syria attack symptoms consiste...</td>\n",
              "      <td>0</td>\n",
              "    </tr>\n",
              "    <tr>\n",
              "      <th>1</th>\n",
              "      <td>fri 07 apr 2017 at 0914 homs governor says us ...</td>\n",
              "      <td>0</td>\n",
              "    </tr>\n",
              "    <tr>\n",
              "      <th>2</th>\n",
              "      <td>sun 16 apr 2017 death toll from aleppo bomb at...</td>\n",
              "      <td>0</td>\n",
              "    </tr>\n",
              "    <tr>\n",
              "      <th>3</th>\n",
              "      <td>wed 19 apr 2017 aleppo bomb blast kills six sy...</td>\n",
              "      <td>0</td>\n",
              "    </tr>\n",
              "    <tr>\n",
              "      <th>4</th>\n",
              "      <td>sun 10 jul 2016 29 syria rebels dead in fighti...</td>\n",
              "      <td>0</td>\n",
              "    </tr>\n",
              "    <tr>\n",
              "      <th>...</th>\n",
              "      <td>...</td>\n",
              "      <td>...</td>\n",
              "    </tr>\n",
              "    <tr>\n",
              "      <th>545</th>\n",
              "      <td>erbil iraq  —   mosul’s residents are hoarding...</td>\n",
              "      <td>0</td>\n",
              "    </tr>\n",
              "    <tr>\n",
              "      <th>546</th>\n",
              "      <td>leave a reply click here to get more info on f...</td>\n",
              "      <td>1</td>\n",
              "    </tr>\n",
              "    <tr>\n",
              "      <th>547</th>\n",
              "      <td>people in parts of south america and africa we...</td>\n",
              "      <td>0</td>\n",
              "    </tr>\n",
              "    <tr>\n",
              "      <th>548</th>\n",
              "      <td>не верьте больше в санту дети он хуже всех вра...</td>\n",
              "      <td>1</td>\n",
              "    </tr>\n",
              "    <tr>\n",
              "      <th>549</th>\n",
              "      <td>sen ted cruz   commended   donald trump’s choi...</td>\n",
              "      <td>0</td>\n",
              "    </tr>\n",
              "  </tbody>\n",
              "</table>\n",
              "<p>1354 rows × 2 columns</p>\n",
              "</div>"
            ],
            "text/plain": [
              "                                                  news  label\n",
              "0    wed 05 apr 2017 syria attack symptoms consiste...      0\n",
              "1    fri 07 apr 2017 at 0914 homs governor says us ...      0\n",
              "2    sun 16 apr 2017 death toll from aleppo bomb at...      0\n",
              "3    wed 19 apr 2017 aleppo bomb blast kills six sy...      0\n",
              "4    sun 10 jul 2016 29 syria rebels dead in fighti...      0\n",
              "..                                                 ...    ...\n",
              "545  erbil iraq  —   mosul’s residents are hoarding...      0\n",
              "546  leave a reply click here to get more info on f...      1\n",
              "547  people in parts of south america and africa we...      0\n",
              "548  не верьте больше в санту дети он хуже всех вра...      1\n",
              "549  sen ted cruz   commended   donald trump’s choi...      0\n",
              "\n",
              "[1354 rows x 2 columns]"
            ]
          },
          "metadata": {},
          "execution_count": 12
        }
      ]
    },
    {
      "cell_type": "code",
      "metadata": {
        "id": "SrrmB84CTq6R",
        "colab": {
          "base_uri": "https://localhost:8080/"
        },
        "outputId": "7088713b-98a6-43ef-b596-11c351626f4a"
      },
      "source": [
        "print(df['news'].iloc[0])"
      ],
      "execution_count": null,
      "outputs": [
        {
          "output_type": "stream",
          "name": "stdout",
          "text": [
            "wed 05 apr 2017 syria attack symptoms consistent with nerve agent use who victims of a suspected chemical attack in syria appeared to show symptoms consistent with reaction to a nerve agent the world health organization said on wednesday some cases appear to show additional signs consistent with exposure to organophosphorus chemicals a category of chemicals that includes nerve agents who said in a statement putting the death toll at at least 70 the united states has said the deaths were caused by sarin nerve gas dropped by syrian aircraft russia has said it believes poison gas had leaked from a rebel chemical weapons depot struck by syrian bombs sarin is an organophosporus compound and a nerve agent chlorine and mustard gas which are also believed to have been used in the past in syria are not a russian defence ministry spokesman did not say what agent was used in the attack but said the rebels had used the same chemical weapons in aleppo last year the who said it was likely that some kind of chemical was used in the attack because sufferers had no apparent external injuries and died from a rapid onset of similar symptoms including acute respiratory distress it said its experts in turkey were giving guidance to overwhelmed health workers in idlib on the diagnosis and treatment of patients and medicines such as atropine an antidote for some types of chemical exposure and steroids for symptomatic treatment had been sent a un commission of inquiry into human rights in syria has previously said forces loyal to syrian president bashar alassad have used lethal chlorine gas on multiple occasions hundreds of civilians died in a sarin gas attack in ghouta on the outskirts of damascus in august 2013 assads government has always denied responsibility for that attack syria agreed to destroy its chemical weapons in 2013 under a deal brokered by moscow and washington but russia a syrian ally and china have repeatedly vetoed any united nations move to sanction assad or refer the situation in syria to the international criminal court these types of weapons are banned by international law because they represent an intolerable barbarism peter salama executive director of the who health emergencies programme said in the who statement  reuters\n"
          ]
        }
      ]
    },
    {
      "cell_type": "code",
      "metadata": {
        "id": "EOwrphB3XM5V"
      },
      "source": [
        "# Train Test Split\n",
        "\n",
        "from sklearn.model_selection import train_test_split\n",
        "\n",
        "berita = df['news'].to_numpy()\n",
        "y = df['label'].to_numpy()\n",
        "\n",
        "x_train, x_test, y_train, y_test = train_test_split(berita, y, test_size = 0.2) # 80:20"
      ],
      "execution_count": null,
      "outputs": []
    },
    {
      "cell_type": "code",
      "metadata": {
        "id": "QrUHVyEoaqyn"
      },
      "source": [
        "# Tokenize Data (Sentence Into Words)\n",
        "\n",
        "from keras.preprocessing.text import Tokenizer\n",
        "from keras.preprocessing.sequence import pad_sequences\n",
        "\n",
        "tokenizer = Tokenizer(num_words=1000)\n",
        "tokenizer.fit_on_texts(x_train)\n",
        "tokenizer.fit_on_texts(x_test)\n",
        "xsequences = tokenizer.texts_to_sequences(x_train)\n",
        "xssequences = tokenizer.texts_to_sequences(x_test)\n",
        "\n",
        "x_train_new = pad_sequences(xsequences)\n",
        "x_test_new = pad_sequences(xssequences)\n"
      ],
      "execution_count": null,
      "outputs": []
    },
    {
      "cell_type": "markdown",
      "metadata": {
        "id": "7hRmom7odmMl"
      },
      "source": [
        "**Build Model**"
      ]
    },
    {
      "cell_type": "code",
      "metadata": {
        "id": "btRa490zawHp"
      },
      "source": [
        "import tensorflow as tf\n",
        "\n",
        "model = tf.keras.Sequential()\n",
        "model.add(tf.keras.layers.Embedding(1000, 128))\n",
        "# Using 1 LSTM Layer and 3 Dense Layer\n",
        "model.add(tf.keras.layers.LSTM(128, dropout=0.4))\n",
        "model.add(tf.keras.layers.Dense(496, activation='relu'))\n",
        "model.add(tf.keras.layers.Dropout(0.2))\n",
        "model.add(tf.keras.layers.Dense(215, activation='relu'))\n",
        "model.add(tf.keras.layers.Dropout(0.5))\n",
        "model.add(tf.keras.layers.Dense(1, activation='relu'))\n",
        "\n",
        "\n",
        "model.compile(loss='binary_crossentropy', optimizer = 'adam', metrics=['accuracy'])"
      ],
      "execution_count": null,
      "outputs": []
    },
    {
      "cell_type": "code",
      "metadata": {
        "id": "mMFV_Fu_zCyp"
      },
      "source": [
        "# Callback Function\n",
        "\n",
        "class callback(tf.keras.callbacks.Callback):\n",
        "  def stop_epoch(self, epoch, logs={}):\n",
        "    if(logs.get('accuracy')>0.96): # End iteration if accuracy > 96%\n",
        "      print(\"End of Epochs\")\n",
        "      self.model.stop_epoch = True\n",
        "\n",
        "callbacks = callback()"
      ],
      "execution_count": null,
      "outputs": []
    },
    {
      "cell_type": "markdown",
      "metadata": {
        "id": "c0Jom0pzlgtF"
      },
      "source": [
        "**Training Session**"
      ]
    },
    {
      "cell_type": "code",
      "metadata": {
        "colab": {
          "base_uri": "https://localhost:8080/"
        },
        "id": "S4sc6aQdA6Qq",
        "outputId": "2a621498-9ad7-427e-a2e6-46320d6f18d7"
      },
      "source": [
        "model.fit(x_train_new, y_train, batch_size=128, epochs=10,\n",
        "          validation_data=(x_test_new, y_test),\n",
        "          verbose=1, callbacks=[callbacks])"
      ],
      "execution_count": null,
      "outputs": [
        {
          "output_type": "stream",
          "name": "stdout",
          "text": [
            "Epoch 1/10\n",
            "9/9 [==============================] - 436s 48s/step - loss: 0.2215 - accuracy: 0.9185 - val_loss: 1.3916 - val_accuracy: 0.7778\n",
            "Epoch 2/10\n",
            "9/9 [==============================] - 436s 49s/step - loss: 0.2181 - accuracy: 0.9338 - val_loss: 1.4749 - val_accuracy: 0.7778\n",
            "Epoch 3/10\n",
            "9/9 [==============================] - 548s 59s/step - loss: 0.1951 - accuracy: 0.9329 - val_loss: 1.5832 - val_accuracy: 0.7969\n",
            "Epoch 4/10\n",
            "9/9 [==============================] - 328s 32s/step - loss: 0.1786 - accuracy: 0.9377 - val_loss: 1.6039 - val_accuracy: 0.8008\n",
            "Epoch 5/10\n",
            "9/9 [==============================] - 375s 39s/step - loss: 0.1695 - accuracy: 0.9473 - val_loss: 1.4595 - val_accuracy: 0.7893\n",
            "Epoch 6/10\n",
            "9/9 [==============================] - 390s 39s/step - loss: 0.1492 - accuracy: 0.9597 - val_loss: 1.7741 - val_accuracy: 0.8161\n",
            "Epoch 7/10\n",
            "9/9 [==============================] - 418s 43s/step - loss: 0.1793 - accuracy: 0.9569 - val_loss: 1.7394 - val_accuracy: 0.8046\n",
            "Epoch 8/10\n",
            "9/9 [==============================] - 403s 46s/step - loss: 0.2049 - accuracy: 0.9549 - val_loss: 1.8007 - val_accuracy: 0.7969\n",
            "Epoch 9/10\n",
            "9/9 [==============================] - 411s 43s/step - loss: 0.1867 - accuracy: 0.9703 - val_loss: 1.9125 - val_accuracy: 0.7969\n",
            "Epoch 10/10\n",
            "9/9 [==============================] - 343s 40s/step - loss: 0.2224 - accuracy: 0.9607 - val_loss: 2.0065 - val_accuracy: 0.7931\n"
          ]
        },
        {
          "output_type": "execute_result",
          "data": {
            "text/plain": [
              "<keras.callbacks.History at 0x7ffb6f969810>"
            ]
          },
          "metadata": {},
          "execution_count": 32
        }
      ]
    },
    {
      "cell_type": "markdown",
      "metadata": {
        "id": "uyVqxMt9lkvR"
      },
      "source": [
        "**Testing Session**"
      ]
    },
    {
      "cell_type": "code",
      "metadata": {
        "id": "jB7cEbvKBAEB"
      },
      "source": [
        "prediction = model.predict(x_test_new)"
      ],
      "execution_count": null,
      "outputs": []
    },
    {
      "cell_type": "code",
      "metadata": {
        "colab": {
          "base_uri": "https://localhost:8080/"
        },
        "id": "clmaoYRUqxZe",
        "outputId": "3dee4abc-32bf-4228-f8fd-74bd8174e093"
      },
      "source": [
        "# history = model.fit(x_test_new, y_test)"
      ],
      "execution_count": null,
      "outputs": [
        {
          "name": "stdout",
          "output_type": "stream",
          "text": [
            "7/7 [==============================] - 61s 9s/step - loss: 0.9795 - accuracy: 0.8392\n"
          ]
        }
      ]
    },
    {
      "cell_type": "code",
      "metadata": {
        "colab": {
          "base_uri": "https://localhost:8080/"
        },
        "id": "Nqxpxr8nBJVS",
        "outputId": "21b5b132-eb85-454b-91cb-03a923183428"
      },
      "source": [
        "history = model.fit(x_test_new, y_test)"
      ],
      "execution_count": null,
      "outputs": [
        {
          "output_type": "stream",
          "name": "stdout",
          "text": [
            "9/9 [==============================] - 213s 24s/step - loss: 1.7493 - accuracy: 0.7816\n"
          ]
        }
      ]
    },
    {
      "cell_type": "markdown",
      "metadata": {
        "id": "jn2zwLidwU2m"
      },
      "source": [
        "-- It can be concluded that the model has the latest accuracy on the testing data of 78%"
      ]
    }
  ]
}