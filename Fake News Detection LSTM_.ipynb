{
  "nbformat": 4,
  "nbformat_minor": 0,
  "metadata": {
    "colab": {
      "name": "[Dicoding]_Modul_6_Sovia_Agustina_K_I_.ipynb",
      "provenance": [],
      "collapsed_sections": []
    },
    "kernelspec": {
      "display_name": "Python 3",
      "name": "python3"
    },
    "language_info": {
      "name": "python"
    }
  },
  "cells": [
    {
      "cell_type": "code",
      "metadata": {
        "id": "-8dXMEBI1xwh"
      },
      "source": [
        "import pandas as pd\n",
        "import numpy as np\n",
        "import os\n",
        "import string\n",
        "import re\n",
        "\n",
        "import tensorflow as tf\n",
        "from sklearn.model_selection import train_test_split\n",
        "from keras.preprocessing.text import Tokenizer\n",
        "from keras.preprocessing.sequence import pad_sequences\n",
        "from tensorflow.keras.preprocessing.text import one_hot\n",
        "\n",
        "import nltk\n",
        "from nltk.tokenize import WordPunctTokenizer, word_tokenize\n",
        "from nltk.corpus import stopwords\n",
        "from nltk.stem.porter import PorterStemmer\n",
        "from sklearn.feature_extraction.text import CountVectorizer as cv\n"
      ],
      "execution_count": 24,
      "outputs": []
    },
    {
      "cell_type": "code",
      "metadata": {
        "colab": {
          "base_uri": "https://localhost:8080/",
          "height": 422
        },
        "id": "5rAq522o47qW",
        "outputId": "1faf07c3-8e87-42bf-f163-0ee82dfcbd07"
      },
      "source": [
        "df1 = pd.read_csv(\"FA-KES-Dataset.csv\",encoding ='unicode_escape')\n",
        "df1.head()"
      ],
      "execution_count": 2,
      "outputs": [
        {
          "output_type": "execute_result",
          "data": {
            "text/html": [
              "<div>\n",
              "<style scoped>\n",
              "    .dataframe tbody tr th:only-of-type {\n",
              "        vertical-align: middle;\n",
              "    }\n",
              "\n",
              "    .dataframe tbody tr th {\n",
              "        vertical-align: top;\n",
              "    }\n",
              "\n",
              "    .dataframe thead th {\n",
              "        text-align: right;\n",
              "    }\n",
              "</style>\n",
              "<table border=\"1\" class=\"dataframe\">\n",
              "  <thead>\n",
              "    <tr style=\"text-align: right;\">\n",
              "      <th></th>\n",
              "      <th>unit_id</th>\n",
              "      <th>article_title</th>\n",
              "      <th>article_content</th>\n",
              "      <th>source</th>\n",
              "      <th>date</th>\n",
              "      <th>location</th>\n",
              "      <th>labels</th>\n",
              "    </tr>\n",
              "  </thead>\n",
              "  <tbody>\n",
              "    <tr>\n",
              "      <th>0</th>\n",
              "      <td>1914947530</td>\n",
              "      <td>Syria attack symptoms consistent with nerve ag...</td>\n",
              "      <td>Wed 05 Apr 2017 Syria attack symptoms consiste...</td>\n",
              "      <td>nna</td>\n",
              "      <td>4/5/2017</td>\n",
              "      <td>idlib</td>\n",
              "      <td>0</td>\n",
              "    </tr>\n",
              "    <tr>\n",
              "      <th>1</th>\n",
              "      <td>1914947532</td>\n",
              "      <td>Homs governor says U.S. attack caused deaths b...</td>\n",
              "      <td>Fri 07 Apr 2017 at 0914 Homs governor says U.S...</td>\n",
              "      <td>nna</td>\n",
              "      <td>4/7/2017</td>\n",
              "      <td>homs</td>\n",
              "      <td>0</td>\n",
              "    </tr>\n",
              "    <tr>\n",
              "      <th>2</th>\n",
              "      <td>1914947533</td>\n",
              "      <td>Death toll from Aleppo bomb attack at least 112</td>\n",
              "      <td>Sun 16 Apr 2017 Death toll from Aleppo bomb at...</td>\n",
              "      <td>nna</td>\n",
              "      <td>4/16/2017</td>\n",
              "      <td>aleppo</td>\n",
              "      <td>0</td>\n",
              "    </tr>\n",
              "    <tr>\n",
              "      <th>3</th>\n",
              "      <td>1914947534</td>\n",
              "      <td>Aleppo bomb blast kills six Syrian state TV</td>\n",
              "      <td>Wed 19 Apr 2017 Aleppo bomb blast kills six Sy...</td>\n",
              "      <td>nna</td>\n",
              "      <td>4/19/2017</td>\n",
              "      <td>aleppo</td>\n",
              "      <td>0</td>\n",
              "    </tr>\n",
              "    <tr>\n",
              "      <th>4</th>\n",
              "      <td>1914947535</td>\n",
              "      <td>29 Syria Rebels Dead in Fighting for Key Alepp...</td>\n",
              "      <td>Sun 10 Jul 2016 29 Syria Rebels Dead in Fighti...</td>\n",
              "      <td>nna</td>\n",
              "      <td>7/10/2016</td>\n",
              "      <td>aleppo</td>\n",
              "      <td>0</td>\n",
              "    </tr>\n",
              "  </tbody>\n",
              "</table>\n",
              "</div>"
            ],
            "text/plain": [
              "      unit_id  ... labels\n",
              "0  1914947530  ...      0\n",
              "1  1914947532  ...      0\n",
              "2  1914947533  ...      0\n",
              "3  1914947534  ...      0\n",
              "4  1914947535  ...      0\n",
              "\n",
              "[5 rows x 7 columns]"
            ]
          },
          "metadata": {},
          "execution_count": 2
        }
      ]
    },
    {
      "cell_type": "code",
      "metadata": {
        "colab": {
          "base_uri": "https://localhost:8080/",
          "height": 417
        },
        "id": "COGxBE7hv8QT",
        "outputId": "bdea96f7-4de4-49d8-cf5f-7e043932df92"
      },
      "source": [
        "df1 = df1.drop(['unit_id', 'article_title', 'source', 'date', 'location'], axis=1)\n",
        "df1.columns = ['news', 'label']\n",
        "df1"
      ],
      "execution_count": 3,
      "outputs": [
        {
          "output_type": "execute_result",
          "data": {
            "text/html": [
              "<div>\n",
              "<style scoped>\n",
              "    .dataframe tbody tr th:only-of-type {\n",
              "        vertical-align: middle;\n",
              "    }\n",
              "\n",
              "    .dataframe tbody tr th {\n",
              "        vertical-align: top;\n",
              "    }\n",
              "\n",
              "    .dataframe thead th {\n",
              "        text-align: right;\n",
              "    }\n",
              "</style>\n",
              "<table border=\"1\" class=\"dataframe\">\n",
              "  <thead>\n",
              "    <tr style=\"text-align: right;\">\n",
              "      <th></th>\n",
              "      <th>news</th>\n",
              "      <th>label</th>\n",
              "    </tr>\n",
              "  </thead>\n",
              "  <tbody>\n",
              "    <tr>\n",
              "      <th>0</th>\n",
              "      <td>Wed 05 Apr 2017 Syria attack symptoms consiste...</td>\n",
              "      <td>0</td>\n",
              "    </tr>\n",
              "    <tr>\n",
              "      <th>1</th>\n",
              "      <td>Fri 07 Apr 2017 at 0914 Homs governor says U.S...</td>\n",
              "      <td>0</td>\n",
              "    </tr>\n",
              "    <tr>\n",
              "      <th>2</th>\n",
              "      <td>Sun 16 Apr 2017 Death toll from Aleppo bomb at...</td>\n",
              "      <td>0</td>\n",
              "    </tr>\n",
              "    <tr>\n",
              "      <th>3</th>\n",
              "      <td>Wed 19 Apr 2017 Aleppo bomb blast kills six Sy...</td>\n",
              "      <td>0</td>\n",
              "    </tr>\n",
              "    <tr>\n",
              "      <th>4</th>\n",
              "      <td>Sun 10 Jul 2016 29 Syria Rebels Dead in Fighti...</td>\n",
              "      <td>0</td>\n",
              "    </tr>\n",
              "    <tr>\n",
              "      <th>...</th>\n",
              "      <td>...</td>\n",
              "      <td>...</td>\n",
              "    </tr>\n",
              "    <tr>\n",
              "      <th>799</th>\n",
              "      <td>28-08-2016 Turkish Bombardment Kills 20 Civili...</td>\n",
              "      <td>1</td>\n",
              "    </tr>\n",
              "    <tr>\n",
              "      <th>800</th>\n",
              "      <td>17-08-2016 Martyrs as Terrorists Shell Aleppos...</td>\n",
              "      <td>1</td>\n",
              "    </tr>\n",
              "    <tr>\n",
              "      <th>801</th>\n",
              "      <td>03-08-2016 Chemical Attack Kills Five Syrians ...</td>\n",
              "      <td>0</td>\n",
              "    </tr>\n",
              "    <tr>\n",
              "      <th>802</th>\n",
              "      <td>01-08-2016 5 Killed as Russian Military Choppe...</td>\n",
              "      <td>1</td>\n",
              "    </tr>\n",
              "    <tr>\n",
              "      <th>803</th>\n",
              "      <td>April 6 2017 Syrian Army Kills 48 ISIL Terrori...</td>\n",
              "      <td>1</td>\n",
              "    </tr>\n",
              "  </tbody>\n",
              "</table>\n",
              "<p>804 rows × 2 columns</p>\n",
              "</div>"
            ],
            "text/plain": [
              "                                                  news  label\n",
              "0    Wed 05 Apr 2017 Syria attack symptoms consiste...      0\n",
              "1    Fri 07 Apr 2017 at 0914 Homs governor says U.S...      0\n",
              "2    Sun 16 Apr 2017 Death toll from Aleppo bomb at...      0\n",
              "3    Wed 19 Apr 2017 Aleppo bomb blast kills six Sy...      0\n",
              "4    Sun 10 Jul 2016 29 Syria Rebels Dead in Fighti...      0\n",
              "..                                                 ...    ...\n",
              "799  28-08-2016 Turkish Bombardment Kills 20 Civili...      1\n",
              "800  17-08-2016 Martyrs as Terrorists Shell Aleppos...      1\n",
              "801  03-08-2016 Chemical Attack Kills Five Syrians ...      0\n",
              "802  01-08-2016 5 Killed as Russian Military Choppe...      1\n",
              "803  April 6 2017 Syrian Army Kills 48 ISIL Terrori...      1\n",
              "\n",
              "[804 rows x 2 columns]"
            ]
          },
          "metadata": {},
          "execution_count": 3
        }
      ]
    },
    {
      "cell_type": "code",
      "metadata": {
        "colab": {
          "base_uri": "https://localhost:8080/",
          "height": 605
        },
        "id": "JVVHuWyz6YfC",
        "outputId": "a14c24cf-b127-407d-f062-eb6421680fa8"
      },
      "source": [
        "df2 = pd.read_csv(\"fakenews-dataset-old.csv\",error_bad_lines=False, engine=\"python\",encoding ='unicode_escape')\n",
        "df2.head()"
      ],
      "execution_count": 4,
      "outputs": [
        {
          "output_type": "execute_result",
          "data": {
            "text/html": [
              "<div>\n",
              "<style scoped>\n",
              "    .dataframe tbody tr th:only-of-type {\n",
              "        vertical-align: middle;\n",
              "    }\n",
              "\n",
              "    .dataframe tbody tr th {\n",
              "        vertical-align: top;\n",
              "    }\n",
              "\n",
              "    .dataframe thead th {\n",
              "        text-align: right;\n",
              "    }\n",
              "</style>\n",
              "<table border=\"1\" class=\"dataframe\">\n",
              "  <thead>\n",
              "    <tr style=\"text-align: right;\">\n",
              "      <th></th>\n",
              "      <th>Unnamed: 0</th>\n",
              "      <th>id</th>\n",
              "      <th>headline</th>\n",
              "      <th>written_by</th>\n",
              "      <th>news</th>\n",
              "      <th>label</th>\n",
              "      <th>Unnamed: 6</th>\n",
              "      <th>Unnamed: 7</th>\n",
              "      <th>Unnamed: 8</th>\n",
              "      <th>Unnamed: 9</th>\n",
              "      <th>Unnamed: 10</th>\n",
              "      <th>Unnamed: 11</th>\n",
              "      <th>Unnamed: 12</th>\n",
              "      <th>Unnamed: 13</th>\n",
              "      <th>Unnamed: 14</th>\n",
              "      <th>Unnamed: 15</th>\n",
              "      <th>Unnamed: 16</th>\n",
              "      <th>Unnamed: 17</th>\n",
              "      <th>Unnamed: 18</th>\n",
              "      <th>Unnamed: 19</th>\n",
              "      <th>Unnamed: 20</th>\n",
              "      <th>Unnamed: 21</th>\n",
              "      <th>Unnamed: 22</th>\n",
              "      <th>Unnamed: 23</th>\n",
              "      <th>Unnamed: 24</th>\n",
              "      <th>Unnamed: 25</th>\n",
              "      <th>Unnamed: 26</th>\n",
              "      <th>Unnamed: 27</th>\n",
              "      <th>Unnamed: 28</th>\n",
              "      <th>Unnamed: 29</th>\n",
              "      <th>Unnamed: 30</th>\n",
              "      <th>Unnamed: 31</th>\n",
              "      <th>Unnamed: 32</th>\n",
              "      <th>Unnamed: 33</th>\n",
              "      <th>Unnamed: 34</th>\n",
              "      <th>Unnamed: 35</th>\n",
              "      <th>Unnamed: 36</th>\n",
              "      <th>Unnamed: 37</th>\n",
              "      <th>Unnamed: 38</th>\n",
              "      <th>Unnamed: 39</th>\n",
              "      <th>...</th>\n",
              "      <th>Unnamed: 646</th>\n",
              "      <th>Unnamed: 647</th>\n",
              "      <th>Unnamed: 648</th>\n",
              "      <th>Unnamed: 649</th>\n",
              "      <th>Unnamed: 650</th>\n",
              "      <th>Unnamed: 651</th>\n",
              "      <th>Unnamed: 652</th>\n",
              "      <th>Unnamed: 653</th>\n",
              "      <th>Unnamed: 654</th>\n",
              "      <th>Unnamed: 655</th>\n",
              "      <th>Unnamed: 656</th>\n",
              "      <th>Unnamed: 657</th>\n",
              "      <th>Unnamed: 658</th>\n",
              "      <th>Unnamed: 659</th>\n",
              "      <th>Unnamed: 660</th>\n",
              "      <th>Unnamed: 661</th>\n",
              "      <th>Unnamed: 662</th>\n",
              "      <th>Unnamed: 663</th>\n",
              "      <th>Unnamed: 664</th>\n",
              "      <th>Unnamed: 665</th>\n",
              "      <th>Unnamed: 666</th>\n",
              "      <th>Unnamed: 667</th>\n",
              "      <th>Unnamed: 668</th>\n",
              "      <th>Unnamed: 669</th>\n",
              "      <th>Unnamed: 670</th>\n",
              "      <th>Unnamed: 671</th>\n",
              "      <th>Unnamed: 672</th>\n",
              "      <th>Unnamed: 673</th>\n",
              "      <th>Unnamed: 674</th>\n",
              "      <th>Unnamed: 675</th>\n",
              "      <th>Unnamed: 676</th>\n",
              "      <th>Unnamed: 677</th>\n",
              "      <th>Unnamed: 678</th>\n",
              "      <th>Unnamed: 679</th>\n",
              "      <th>Unnamed: 680</th>\n",
              "      <th>Unnamed: 681</th>\n",
              "      <th>Unnamed: 682</th>\n",
              "      <th>Unnamed: 683</th>\n",
              "      <th>Unnamed: 684</th>\n",
              "      <th>Unnamed: 685</th>\n",
              "    </tr>\n",
              "  </thead>\n",
              "  <tbody>\n",
              "    <tr>\n",
              "      <th>0</th>\n",
              "      <td>0</td>\n",
              "      <td>9653</td>\n",
              "      <td>Ethics Questions Dogged Agriculture Nominee as...</td>\n",
              "      <td>Eric Lipton and Steve Eder</td>\n",
              "      <td>WASHINGTON  â   In Sonny Perdueâs telling,...</td>\n",
              "      <td>0</td>\n",
              "      <td>NaN</td>\n",
              "      <td>NaN</td>\n",
              "      <td>NaN</td>\n",
              "      <td>NaN</td>\n",
              "      <td>NaN</td>\n",
              "      <td>NaN</td>\n",
              "      <td>NaN</td>\n",
              "      <td>NaN</td>\n",
              "      <td>NaN</td>\n",
              "      <td>NaN</td>\n",
              "      <td>NaN</td>\n",
              "      <td>NaN</td>\n",
              "      <td>NaN</td>\n",
              "      <td>NaN</td>\n",
              "      <td>NaN</td>\n",
              "      <td>NaN</td>\n",
              "      <td>NaN</td>\n",
              "      <td>NaN</td>\n",
              "      <td>NaN</td>\n",
              "      <td>NaN</td>\n",
              "      <td>NaN</td>\n",
              "      <td>NaN</td>\n",
              "      <td>NaN</td>\n",
              "      <td>NaN</td>\n",
              "      <td>NaN</td>\n",
              "      <td>NaN</td>\n",
              "      <td>NaN</td>\n",
              "      <td>NaN</td>\n",
              "      <td>NaN</td>\n",
              "      <td>NaN</td>\n",
              "      <td>NaN</td>\n",
              "      <td>NaN</td>\n",
              "      <td>NaN</td>\n",
              "      <td>NaN</td>\n",
              "      <td>...</td>\n",
              "      <td>NaN</td>\n",
              "      <td>NaN</td>\n",
              "      <td>NaN</td>\n",
              "      <td>NaN</td>\n",
              "      <td>NaN</td>\n",
              "      <td>NaN</td>\n",
              "      <td>NaN</td>\n",
              "      <td>NaN</td>\n",
              "      <td>NaN</td>\n",
              "      <td>NaN</td>\n",
              "      <td>NaN</td>\n",
              "      <td>NaN</td>\n",
              "      <td>NaN</td>\n",
              "      <td>NaN</td>\n",
              "      <td>NaN</td>\n",
              "      <td>NaN</td>\n",
              "      <td>NaN</td>\n",
              "      <td>NaN</td>\n",
              "      <td>NaN</td>\n",
              "      <td>NaN</td>\n",
              "      <td>NaN</td>\n",
              "      <td>NaN</td>\n",
              "      <td>NaN</td>\n",
              "      <td>NaN</td>\n",
              "      <td>NaN</td>\n",
              "      <td>NaN</td>\n",
              "      <td>NaN</td>\n",
              "      <td>NaN</td>\n",
              "      <td>NaN</td>\n",
              "      <td>NaN</td>\n",
              "      <td>NaN</td>\n",
              "      <td>NaN</td>\n",
              "      <td>NaN</td>\n",
              "      <td>NaN</td>\n",
              "      <td>NaN</td>\n",
              "      <td>NaN</td>\n",
              "      <td>NaN</td>\n",
              "      <td>NaN</td>\n",
              "      <td>NaN</td>\n",
              "      <td>NaN</td>\n",
              "    </tr>\n",
              "    <tr>\n",
              "      <th>1</th>\n",
              "      <td>1</td>\n",
              "      <td>10041</td>\n",
              "      <td>U.S. Must Dig Deep to Stop Argentinaâs Lione...</td>\n",
              "      <td>David Waldstein</td>\n",
              "      <td>HOUSTON  â   Venezuela had a plan. It was a ...</td>\n",
              "      <td>0</td>\n",
              "      <td>NaN</td>\n",
              "      <td>NaN</td>\n",
              "      <td>NaN</td>\n",
              "      <td>NaN</td>\n",
              "      <td>NaN</td>\n",
              "      <td>NaN</td>\n",
              "      <td>NaN</td>\n",
              "      <td>NaN</td>\n",
              "      <td>NaN</td>\n",
              "      <td>NaN</td>\n",
              "      <td>NaN</td>\n",
              "      <td>NaN</td>\n",
              "      <td>NaN</td>\n",
              "      <td>NaN</td>\n",
              "      <td>NaN</td>\n",
              "      <td>NaN</td>\n",
              "      <td>NaN</td>\n",
              "      <td>NaN</td>\n",
              "      <td>NaN</td>\n",
              "      <td>NaN</td>\n",
              "      <td>NaN</td>\n",
              "      <td>NaN</td>\n",
              "      <td>NaN</td>\n",
              "      <td>NaN</td>\n",
              "      <td>NaN</td>\n",
              "      <td>NaN</td>\n",
              "      <td>NaN</td>\n",
              "      <td>NaN</td>\n",
              "      <td>NaN</td>\n",
              "      <td>NaN</td>\n",
              "      <td>NaN</td>\n",
              "      <td>NaN</td>\n",
              "      <td>NaN</td>\n",
              "      <td>NaN</td>\n",
              "      <td>...</td>\n",
              "      <td>NaN</td>\n",
              "      <td>NaN</td>\n",
              "      <td>NaN</td>\n",
              "      <td>NaN</td>\n",
              "      <td>NaN</td>\n",
              "      <td>NaN</td>\n",
              "      <td>NaN</td>\n",
              "      <td>NaN</td>\n",
              "      <td>NaN</td>\n",
              "      <td>NaN</td>\n",
              "      <td>NaN</td>\n",
              "      <td>NaN</td>\n",
              "      <td>NaN</td>\n",
              "      <td>NaN</td>\n",
              "      <td>NaN</td>\n",
              "      <td>NaN</td>\n",
              "      <td>NaN</td>\n",
              "      <td>NaN</td>\n",
              "      <td>NaN</td>\n",
              "      <td>NaN</td>\n",
              "      <td>NaN</td>\n",
              "      <td>NaN</td>\n",
              "      <td>NaN</td>\n",
              "      <td>NaN</td>\n",
              "      <td>NaN</td>\n",
              "      <td>NaN</td>\n",
              "      <td>NaN</td>\n",
              "      <td>NaN</td>\n",
              "      <td>NaN</td>\n",
              "      <td>NaN</td>\n",
              "      <td>NaN</td>\n",
              "      <td>NaN</td>\n",
              "      <td>NaN</td>\n",
              "      <td>NaN</td>\n",
              "      <td>NaN</td>\n",
              "      <td>NaN</td>\n",
              "      <td>NaN</td>\n",
              "      <td>NaN</td>\n",
              "      <td>NaN</td>\n",
              "      <td>NaN</td>\n",
              "    </tr>\n",
              "    <tr>\n",
              "      <th>2</th>\n",
              "      <td>2</td>\n",
              "      <td>19113</td>\n",
              "      <td>Cotton to House: âDo Not Walk the Plank and ...</td>\n",
              "      <td>Pam Key</td>\n",
              "      <td>Sunday on ABCâs âThis Week,â while discu...</td>\n",
              "      <td>0</td>\n",
              "      <td>NaN</td>\n",
              "      <td>NaN</td>\n",
              "      <td>NaN</td>\n",
              "      <td>NaN</td>\n",
              "      <td>NaN</td>\n",
              "      <td>NaN</td>\n",
              "      <td>NaN</td>\n",
              "      <td>NaN</td>\n",
              "      <td>NaN</td>\n",
              "      <td>NaN</td>\n",
              "      <td>NaN</td>\n",
              "      <td>NaN</td>\n",
              "      <td>NaN</td>\n",
              "      <td>NaN</td>\n",
              "      <td>NaN</td>\n",
              "      <td>NaN</td>\n",
              "      <td>NaN</td>\n",
              "      <td>NaN</td>\n",
              "      <td>NaN</td>\n",
              "      <td>NaN</td>\n",
              "      <td>NaN</td>\n",
              "      <td>NaN</td>\n",
              "      <td>NaN</td>\n",
              "      <td>NaN</td>\n",
              "      <td>NaN</td>\n",
              "      <td>NaN</td>\n",
              "      <td>NaN</td>\n",
              "      <td>NaN</td>\n",
              "      <td>NaN</td>\n",
              "      <td>NaN</td>\n",
              "      <td>NaN</td>\n",
              "      <td>NaN</td>\n",
              "      <td>NaN</td>\n",
              "      <td>NaN</td>\n",
              "      <td>...</td>\n",
              "      <td>NaN</td>\n",
              "      <td>NaN</td>\n",
              "      <td>NaN</td>\n",
              "      <td>NaN</td>\n",
              "      <td>NaN</td>\n",
              "      <td>NaN</td>\n",
              "      <td>NaN</td>\n",
              "      <td>NaN</td>\n",
              "      <td>NaN</td>\n",
              "      <td>NaN</td>\n",
              "      <td>NaN</td>\n",
              "      <td>NaN</td>\n",
              "      <td>NaN</td>\n",
              "      <td>NaN</td>\n",
              "      <td>NaN</td>\n",
              "      <td>NaN</td>\n",
              "      <td>NaN</td>\n",
              "      <td>NaN</td>\n",
              "      <td>NaN</td>\n",
              "      <td>NaN</td>\n",
              "      <td>NaN</td>\n",
              "      <td>NaN</td>\n",
              "      <td>NaN</td>\n",
              "      <td>NaN</td>\n",
              "      <td>NaN</td>\n",
              "      <td>NaN</td>\n",
              "      <td>NaN</td>\n",
              "      <td>NaN</td>\n",
              "      <td>NaN</td>\n",
              "      <td>NaN</td>\n",
              "      <td>NaN</td>\n",
              "      <td>NaN</td>\n",
              "      <td>NaN</td>\n",
              "      <td>NaN</td>\n",
              "      <td>NaN</td>\n",
              "      <td>NaN</td>\n",
              "      <td>NaN</td>\n",
              "      <td>NaN</td>\n",
              "      <td>NaN</td>\n",
              "      <td>NaN</td>\n",
              "    </tr>\n",
              "    <tr>\n",
              "      <th>3</th>\n",
              "      <td>3</td>\n",
              "      <td>6868</td>\n",
              "      <td>Paul LePage, Besieged Maine Governor, Sends Co...</td>\n",
              "      <td>Jess Bidgood</td>\n",
              "      <td>AUGUSTA, Me.  â   The beleaguered Republican...</td>\n",
              "      <td>0</td>\n",
              "      <td>NaN</td>\n",
              "      <td>NaN</td>\n",
              "      <td>NaN</td>\n",
              "      <td>NaN</td>\n",
              "      <td>NaN</td>\n",
              "      <td>NaN</td>\n",
              "      <td>NaN</td>\n",
              "      <td>NaN</td>\n",
              "      <td>NaN</td>\n",
              "      <td>NaN</td>\n",
              "      <td>NaN</td>\n",
              "      <td>NaN</td>\n",
              "      <td>NaN</td>\n",
              "      <td>NaN</td>\n",
              "      <td>NaN</td>\n",
              "      <td>NaN</td>\n",
              "      <td>NaN</td>\n",
              "      <td>NaN</td>\n",
              "      <td>NaN</td>\n",
              "      <td>NaN</td>\n",
              "      <td>NaN</td>\n",
              "      <td>NaN</td>\n",
              "      <td>NaN</td>\n",
              "      <td>NaN</td>\n",
              "      <td>NaN</td>\n",
              "      <td>NaN</td>\n",
              "      <td>NaN</td>\n",
              "      <td>NaN</td>\n",
              "      <td>NaN</td>\n",
              "      <td>NaN</td>\n",
              "      <td>NaN</td>\n",
              "      <td>NaN</td>\n",
              "      <td>NaN</td>\n",
              "      <td>NaN</td>\n",
              "      <td>...</td>\n",
              "      <td>NaN</td>\n",
              "      <td>NaN</td>\n",
              "      <td>NaN</td>\n",
              "      <td>NaN</td>\n",
              "      <td>NaN</td>\n",
              "      <td>NaN</td>\n",
              "      <td>NaN</td>\n",
              "      <td>NaN</td>\n",
              "      <td>NaN</td>\n",
              "      <td>NaN</td>\n",
              "      <td>NaN</td>\n",
              "      <td>NaN</td>\n",
              "      <td>NaN</td>\n",
              "      <td>NaN</td>\n",
              "      <td>NaN</td>\n",
              "      <td>NaN</td>\n",
              "      <td>NaN</td>\n",
              "      <td>NaN</td>\n",
              "      <td>NaN</td>\n",
              "      <td>NaN</td>\n",
              "      <td>NaN</td>\n",
              "      <td>NaN</td>\n",
              "      <td>NaN</td>\n",
              "      <td>NaN</td>\n",
              "      <td>NaN</td>\n",
              "      <td>NaN</td>\n",
              "      <td>NaN</td>\n",
              "      <td>NaN</td>\n",
              "      <td>NaN</td>\n",
              "      <td>NaN</td>\n",
              "      <td>NaN</td>\n",
              "      <td>NaN</td>\n",
              "      <td>NaN</td>\n",
              "      <td>NaN</td>\n",
              "      <td>NaN</td>\n",
              "      <td>NaN</td>\n",
              "      <td>NaN</td>\n",
              "      <td>NaN</td>\n",
              "      <td>NaN</td>\n",
              "      <td>NaN</td>\n",
              "    </tr>\n",
              "    <tr>\n",
              "      <th>4</th>\n",
              "      <td>4</td>\n",
              "      <td>7596</td>\n",
              "      <td>A Digital 9/11 If Trump Wins</td>\n",
              "      <td>Finian Cunningham</td>\n",
              "      <td>Finian Cunningham has written extensively on...</td>\n",
              "      <td>1</td>\n",
              "      <td>NaN</td>\n",
              "      <td>NaN</td>\n",
              "      <td>NaN</td>\n",
              "      <td>NaN</td>\n",
              "      <td>NaN</td>\n",
              "      <td>NaN</td>\n",
              "      <td>NaN</td>\n",
              "      <td>NaN</td>\n",
              "      <td>NaN</td>\n",
              "      <td>NaN</td>\n",
              "      <td>NaN</td>\n",
              "      <td>NaN</td>\n",
              "      <td>NaN</td>\n",
              "      <td>NaN</td>\n",
              "      <td>NaN</td>\n",
              "      <td>NaN</td>\n",
              "      <td>NaN</td>\n",
              "      <td>NaN</td>\n",
              "      <td>NaN</td>\n",
              "      <td>NaN</td>\n",
              "      <td>NaN</td>\n",
              "      <td>NaN</td>\n",
              "      <td>NaN</td>\n",
              "      <td>NaN</td>\n",
              "      <td>NaN</td>\n",
              "      <td>NaN</td>\n",
              "      <td>NaN</td>\n",
              "      <td>NaN</td>\n",
              "      <td>NaN</td>\n",
              "      <td>NaN</td>\n",
              "      <td>NaN</td>\n",
              "      <td>NaN</td>\n",
              "      <td>NaN</td>\n",
              "      <td>NaN</td>\n",
              "      <td>...</td>\n",
              "      <td>NaN</td>\n",
              "      <td>NaN</td>\n",
              "      <td>NaN</td>\n",
              "      <td>NaN</td>\n",
              "      <td>NaN</td>\n",
              "      <td>NaN</td>\n",
              "      <td>NaN</td>\n",
              "      <td>NaN</td>\n",
              "      <td>NaN</td>\n",
              "      <td>NaN</td>\n",
              "      <td>NaN</td>\n",
              "      <td>NaN</td>\n",
              "      <td>NaN</td>\n",
              "      <td>NaN</td>\n",
              "      <td>NaN</td>\n",
              "      <td>NaN</td>\n",
              "      <td>NaN</td>\n",
              "      <td>NaN</td>\n",
              "      <td>NaN</td>\n",
              "      <td>NaN</td>\n",
              "      <td>NaN</td>\n",
              "      <td>NaN</td>\n",
              "      <td>NaN</td>\n",
              "      <td>NaN</td>\n",
              "      <td>NaN</td>\n",
              "      <td>NaN</td>\n",
              "      <td>NaN</td>\n",
              "      <td>NaN</td>\n",
              "      <td>NaN</td>\n",
              "      <td>NaN</td>\n",
              "      <td>NaN</td>\n",
              "      <td>NaN</td>\n",
              "      <td>NaN</td>\n",
              "      <td>NaN</td>\n",
              "      <td>NaN</td>\n",
              "      <td>NaN</td>\n",
              "      <td>NaN</td>\n",
              "      <td>NaN</td>\n",
              "      <td>NaN</td>\n",
              "      <td>NaN</td>\n",
              "    </tr>\n",
              "  </tbody>\n",
              "</table>\n",
              "<p>5 rows × 686 columns</p>\n",
              "</div>"
            ],
            "text/plain": [
              "  Unnamed: 0     id  ... Unnamed: 684 Unnamed: 685\n",
              "0          0   9653  ...          NaN          NaN\n",
              "1          1  10041  ...          NaN          NaN\n",
              "2          2  19113  ...          NaN          NaN\n",
              "3          3   6868  ...          NaN          NaN\n",
              "4          4   7596  ...          NaN          NaN\n",
              "\n",
              "[5 rows x 686 columns]"
            ]
          },
          "metadata": {},
          "execution_count": 4
        }
      ]
    },
    {
      "cell_type": "code",
      "metadata": {
        "id": "5Krd7Rct5xZJ"
      },
      "source": [
        "df2 = df2.iloc[:, :6]"
      ],
      "execution_count": 9,
      "outputs": []
    },
    {
      "cell_type": "code",
      "metadata": {
        "colab": {
          "base_uri": "https://localhost:8080/",
          "height": 354
        },
        "id": "qc8sWnja0h4C",
        "outputId": "57b0a6d7-b909-49ee-bf21-8cc4aecc60af"
      },
      "source": [
        "df2.columns = ['number', 'id', 'headline', 'written_by', 'news', 'label']\n",
        "df2.head()"
      ],
      "execution_count": 10,
      "outputs": [
        {
          "output_type": "execute_result",
          "data": {
            "text/html": [
              "<div>\n",
              "<style scoped>\n",
              "    .dataframe tbody tr th:only-of-type {\n",
              "        vertical-align: middle;\n",
              "    }\n",
              "\n",
              "    .dataframe tbody tr th {\n",
              "        vertical-align: top;\n",
              "    }\n",
              "\n",
              "    .dataframe thead th {\n",
              "        text-align: right;\n",
              "    }\n",
              "</style>\n",
              "<table border=\"1\" class=\"dataframe\">\n",
              "  <thead>\n",
              "    <tr style=\"text-align: right;\">\n",
              "      <th></th>\n",
              "      <th>number</th>\n",
              "      <th>id</th>\n",
              "      <th>headline</th>\n",
              "      <th>written_by</th>\n",
              "      <th>news</th>\n",
              "      <th>label</th>\n",
              "    </tr>\n",
              "  </thead>\n",
              "  <tbody>\n",
              "    <tr>\n",
              "      <th>0</th>\n",
              "      <td>0</td>\n",
              "      <td>9653</td>\n",
              "      <td>Ethics Questions Dogged Agriculture Nominee as...</td>\n",
              "      <td>Eric Lipton and Steve Eder</td>\n",
              "      <td>WASHINGTON  â   In Sonny Perdueâs telling,...</td>\n",
              "      <td>0</td>\n",
              "    </tr>\n",
              "    <tr>\n",
              "      <th>1</th>\n",
              "      <td>1</td>\n",
              "      <td>10041</td>\n",
              "      <td>U.S. Must Dig Deep to Stop Argentinaâs Lione...</td>\n",
              "      <td>David Waldstein</td>\n",
              "      <td>HOUSTON  â   Venezuela had a plan. It was a ...</td>\n",
              "      <td>0</td>\n",
              "    </tr>\n",
              "    <tr>\n",
              "      <th>2</th>\n",
              "      <td>2</td>\n",
              "      <td>19113</td>\n",
              "      <td>Cotton to House: âDo Not Walk the Plank and ...</td>\n",
              "      <td>Pam Key</td>\n",
              "      <td>Sunday on ABCâs âThis Week,â while discu...</td>\n",
              "      <td>0</td>\n",
              "    </tr>\n",
              "    <tr>\n",
              "      <th>3</th>\n",
              "      <td>3</td>\n",
              "      <td>6868</td>\n",
              "      <td>Paul LePage, Besieged Maine Governor, Sends Co...</td>\n",
              "      <td>Jess Bidgood</td>\n",
              "      <td>AUGUSTA, Me.  â   The beleaguered Republican...</td>\n",
              "      <td>0</td>\n",
              "    </tr>\n",
              "    <tr>\n",
              "      <th>4</th>\n",
              "      <td>4</td>\n",
              "      <td>7596</td>\n",
              "      <td>A Digital 9/11 If Trump Wins</td>\n",
              "      <td>Finian Cunningham</td>\n",
              "      <td>Finian Cunningham has written extensively on...</td>\n",
              "      <td>1</td>\n",
              "    </tr>\n",
              "  </tbody>\n",
              "</table>\n",
              "</div>"
            ],
            "text/plain": [
              "  number     id  ...                                               news label\n",
              "0      0   9653  ...  WASHINGTON  â   In Sonny Perdueâs telling,...     0\n",
              "1      1  10041  ...  HOUSTON  â   Venezuela had a plan. It was a ...     0\n",
              "2      2  19113  ...  Sunday on ABCâs âThis Week,â while discu...     0\n",
              "3      3   6868  ...  AUGUSTA, Me.  â   The beleaguered Republican...     0\n",
              "4      4   7596  ...    Finian Cunningham has written extensively on...     1\n",
              "\n",
              "[5 rows x 6 columns]"
            ]
          },
          "metadata": {},
          "execution_count": 10
        }
      ]
    },
    {
      "cell_type": "code",
      "metadata": {
        "id": "NQQgTJDLqEj4"
      },
      "source": [
        "df2 = df2[:550]"
      ],
      "execution_count": 11,
      "outputs": []
    },
    {
      "cell_type": "code",
      "metadata": {
        "colab": {
          "base_uri": "https://localhost:8080/",
          "height": 203
        },
        "id": "J-e29wrr2ecR",
        "outputId": "8f1e91d9-8be3-4a23-e4f9-ef6ebd279e63"
      },
      "source": [
        "df2 = df2.drop(['number', 'id', 'headline', 'written_by'], axis = 1)\n",
        "df2.head()"
      ],
      "execution_count": 12,
      "outputs": [
        {
          "output_type": "execute_result",
          "data": {
            "text/html": [
              "<div>\n",
              "<style scoped>\n",
              "    .dataframe tbody tr th:only-of-type {\n",
              "        vertical-align: middle;\n",
              "    }\n",
              "\n",
              "    .dataframe tbody tr th {\n",
              "        vertical-align: top;\n",
              "    }\n",
              "\n",
              "    .dataframe thead th {\n",
              "        text-align: right;\n",
              "    }\n",
              "</style>\n",
              "<table border=\"1\" class=\"dataframe\">\n",
              "  <thead>\n",
              "    <tr style=\"text-align: right;\">\n",
              "      <th></th>\n",
              "      <th>news</th>\n",
              "      <th>label</th>\n",
              "    </tr>\n",
              "  </thead>\n",
              "  <tbody>\n",
              "    <tr>\n",
              "      <th>0</th>\n",
              "      <td>WASHINGTON  â   In Sonny Perdueâs telling,...</td>\n",
              "      <td>0</td>\n",
              "    </tr>\n",
              "    <tr>\n",
              "      <th>1</th>\n",
              "      <td>HOUSTON  â   Venezuela had a plan. It was a ...</td>\n",
              "      <td>0</td>\n",
              "    </tr>\n",
              "    <tr>\n",
              "      <th>2</th>\n",
              "      <td>Sunday on ABCâs âThis Week,â while discu...</td>\n",
              "      <td>0</td>\n",
              "    </tr>\n",
              "    <tr>\n",
              "      <th>3</th>\n",
              "      <td>AUGUSTA, Me.  â   The beleaguered Republican...</td>\n",
              "      <td>0</td>\n",
              "    </tr>\n",
              "    <tr>\n",
              "      <th>4</th>\n",
              "      <td>Finian Cunningham has written extensively on...</td>\n",
              "      <td>1</td>\n",
              "    </tr>\n",
              "  </tbody>\n",
              "</table>\n",
              "</div>"
            ],
            "text/plain": [
              "                                                news label\n",
              "0  WASHINGTON  â   In Sonny Perdueâs telling,...     0\n",
              "1  HOUSTON  â   Venezuela had a plan. It was a ...     0\n",
              "2  Sunday on ABCâs âThis Week,â while discu...     0\n",
              "3  AUGUSTA, Me.  â   The beleaguered Republican...     0\n",
              "4    Finian Cunningham has written extensively on...     1"
            ]
          },
          "metadata": {},
          "execution_count": 12
        }
      ]
    },
    {
      "cell_type": "code",
      "metadata": {
        "colab": {
          "base_uri": "https://localhost:8080/",
          "height": 417
        },
        "id": "rr_GqAacYIX7",
        "outputId": "059bd308-12b0-4eff-ea9a-dd81300a6412"
      },
      "source": [
        "df2"
      ],
      "execution_count": 13,
      "outputs": [
        {
          "output_type": "execute_result",
          "data": {
            "text/html": [
              "<div>\n",
              "<style scoped>\n",
              "    .dataframe tbody tr th:only-of-type {\n",
              "        vertical-align: middle;\n",
              "    }\n",
              "\n",
              "    .dataframe tbody tr th {\n",
              "        vertical-align: top;\n",
              "    }\n",
              "\n",
              "    .dataframe thead th {\n",
              "        text-align: right;\n",
              "    }\n",
              "</style>\n",
              "<table border=\"1\" class=\"dataframe\">\n",
              "  <thead>\n",
              "    <tr style=\"text-align: right;\">\n",
              "      <th></th>\n",
              "      <th>news</th>\n",
              "      <th>label</th>\n",
              "    </tr>\n",
              "  </thead>\n",
              "  <tbody>\n",
              "    <tr>\n",
              "      <th>0</th>\n",
              "      <td>WASHINGTON  â   In Sonny Perdueâs telling,...</td>\n",
              "      <td>0</td>\n",
              "    </tr>\n",
              "    <tr>\n",
              "      <th>1</th>\n",
              "      <td>HOUSTON  â   Venezuela had a plan. It was a ...</td>\n",
              "      <td>0</td>\n",
              "    </tr>\n",
              "    <tr>\n",
              "      <th>2</th>\n",
              "      <td>Sunday on ABCâs âThis Week,â while discu...</td>\n",
              "      <td>0</td>\n",
              "    </tr>\n",
              "    <tr>\n",
              "      <th>3</th>\n",
              "      <td>AUGUSTA, Me.  â   The beleaguered Republican...</td>\n",
              "      <td>0</td>\n",
              "    </tr>\n",
              "    <tr>\n",
              "      <th>4</th>\n",
              "      <td>Finian Cunningham has written extensively on...</td>\n",
              "      <td>1</td>\n",
              "    </tr>\n",
              "    <tr>\n",
              "      <th>...</th>\n",
              "      <td>...</td>\n",
              "      <td>...</td>\n",
              "    </tr>\n",
              "    <tr>\n",
              "      <th>545</th>\n",
              "      <td>Sen. Ted Cruz ( ) commended   Donald Trumpâs...</td>\n",
              "      <td>0</td>\n",
              "    </tr>\n",
              "    <tr>\n",
              "      <th>546</th>\n",
              "      <td>Report Copyright Violation If the Christian ev...</td>\n",
              "      <td>1</td>\n",
              "    </tr>\n",
              "    <tr>\n",
              "      <th>547</th>\n",
              "      <td>For reasons unknown, Canadians are unable to a...</td>\n",
              "      <td>1</td>\n",
              "    </tr>\n",
              "    <tr>\n",
              "      <th>548</th>\n",
              "      <td>\\nA stunning Foreign Intelligence Service (SVR...</td>\n",
              "      <td>1</td>\n",
              "    </tr>\n",
              "    <tr>\n",
              "      <th>549</th>\n",
              "      <td>Hillary Clinton was campaigning for her husban...</td>\n",
              "      <td>0</td>\n",
              "    </tr>\n",
              "  </tbody>\n",
              "</table>\n",
              "<p>550 rows × 2 columns</p>\n",
              "</div>"
            ],
            "text/plain": [
              "                                                  news label\n",
              "0    WASHINGTON  â   In Sonny Perdueâs telling,...     0\n",
              "1    HOUSTON  â   Venezuela had a plan. It was a ...     0\n",
              "2    Sunday on ABCâs âThis Week,â while discu...     0\n",
              "3    AUGUSTA, Me.  â   The beleaguered Republican...     0\n",
              "4      Finian Cunningham has written extensively on...     1\n",
              "..                                                 ...   ...\n",
              "545  Sen. Ted Cruz ( ) commended   Donald Trumpâs...     0\n",
              "546  Report Copyright Violation If the Christian ev...     1\n",
              "547  For reasons unknown, Canadians are unable to a...     1\n",
              "548  \\nA stunning Foreign Intelligence Service (SVR...     1\n",
              "549  Hillary Clinton was campaigning for her husban...     0\n",
              "\n",
              "[550 rows x 2 columns]"
            ]
          },
          "metadata": {},
          "execution_count": 13
        }
      ]
    },
    {
      "cell_type": "code",
      "metadata": {
        "colab": {
          "base_uri": "https://localhost:8080/",
          "height": 417
        },
        "id": "BFuwgvS_7mdF",
        "outputId": "581abc24-ef98-4360-9c13-671023ca6d3d"
      },
      "source": [
        "df = pd.concat([df1, df2])\n",
        "df"
      ],
      "execution_count": 14,
      "outputs": [
        {
          "output_type": "execute_result",
          "data": {
            "text/html": [
              "<div>\n",
              "<style scoped>\n",
              "    .dataframe tbody tr th:only-of-type {\n",
              "        vertical-align: middle;\n",
              "    }\n",
              "\n",
              "    .dataframe tbody tr th {\n",
              "        vertical-align: top;\n",
              "    }\n",
              "\n",
              "    .dataframe thead th {\n",
              "        text-align: right;\n",
              "    }\n",
              "</style>\n",
              "<table border=\"1\" class=\"dataframe\">\n",
              "  <thead>\n",
              "    <tr style=\"text-align: right;\">\n",
              "      <th></th>\n",
              "      <th>news</th>\n",
              "      <th>label</th>\n",
              "    </tr>\n",
              "  </thead>\n",
              "  <tbody>\n",
              "    <tr>\n",
              "      <th>0</th>\n",
              "      <td>Wed 05 Apr 2017 Syria attack symptoms consiste...</td>\n",
              "      <td>0</td>\n",
              "    </tr>\n",
              "    <tr>\n",
              "      <th>1</th>\n",
              "      <td>Fri 07 Apr 2017 at 0914 Homs governor says U.S...</td>\n",
              "      <td>0</td>\n",
              "    </tr>\n",
              "    <tr>\n",
              "      <th>2</th>\n",
              "      <td>Sun 16 Apr 2017 Death toll from Aleppo bomb at...</td>\n",
              "      <td>0</td>\n",
              "    </tr>\n",
              "    <tr>\n",
              "      <th>3</th>\n",
              "      <td>Wed 19 Apr 2017 Aleppo bomb blast kills six Sy...</td>\n",
              "      <td>0</td>\n",
              "    </tr>\n",
              "    <tr>\n",
              "      <th>4</th>\n",
              "      <td>Sun 10 Jul 2016 29 Syria Rebels Dead in Fighti...</td>\n",
              "      <td>0</td>\n",
              "    </tr>\n",
              "    <tr>\n",
              "      <th>...</th>\n",
              "      <td>...</td>\n",
              "      <td>...</td>\n",
              "    </tr>\n",
              "    <tr>\n",
              "      <th>545</th>\n",
              "      <td>Sen. Ted Cruz ( ) commended   Donald Trumpâs...</td>\n",
              "      <td>0</td>\n",
              "    </tr>\n",
              "    <tr>\n",
              "      <th>546</th>\n",
              "      <td>Report Copyright Violation If the Christian ev...</td>\n",
              "      <td>1</td>\n",
              "    </tr>\n",
              "    <tr>\n",
              "      <th>547</th>\n",
              "      <td>For reasons unknown, Canadians are unable to a...</td>\n",
              "      <td>1</td>\n",
              "    </tr>\n",
              "    <tr>\n",
              "      <th>548</th>\n",
              "      <td>\\nA stunning Foreign Intelligence Service (SVR...</td>\n",
              "      <td>1</td>\n",
              "    </tr>\n",
              "    <tr>\n",
              "      <th>549</th>\n",
              "      <td>Hillary Clinton was campaigning for her husban...</td>\n",
              "      <td>0</td>\n",
              "    </tr>\n",
              "  </tbody>\n",
              "</table>\n",
              "<p>1354 rows × 2 columns</p>\n",
              "</div>"
            ],
            "text/plain": [
              "                                                  news label\n",
              "0    Wed 05 Apr 2017 Syria attack symptoms consiste...     0\n",
              "1    Fri 07 Apr 2017 at 0914 Homs governor says U.S...     0\n",
              "2    Sun 16 Apr 2017 Death toll from Aleppo bomb at...     0\n",
              "3    Wed 19 Apr 2017 Aleppo bomb blast kills six Sy...     0\n",
              "4    Sun 10 Jul 2016 29 Syria Rebels Dead in Fighti...     0\n",
              "..                                                 ...   ...\n",
              "545  Sen. Ted Cruz ( ) commended   Donald Trumpâs...     0\n",
              "546  Report Copyright Violation If the Christian ev...     1\n",
              "547  For reasons unknown, Canadians are unable to a...     1\n",
              "548  \\nA stunning Foreign Intelligence Service (SVR...     1\n",
              "549  Hillary Clinton was campaigning for her husban...     0\n",
              "\n",
              "[1354 rows x 2 columns]"
            ]
          },
          "metadata": {},
          "execution_count": 14
        }
      ]
    },
    {
      "cell_type": "code",
      "metadata": {
        "colab": {
          "base_uri": "https://localhost:8080/"
        },
        "id": "lb2gJaFaB6ox",
        "outputId": "12bb379a-060c-4f26-efbc-e67892a2121d"
      },
      "source": [
        "# Count how many hoax and valid label\n",
        "df['label'].value_counts()"
      ],
      "execution_count": 15,
      "outputs": [
        {
          "output_type": "execute_result",
          "data": {
            "text/plain": [
              "1                                                                                        426\n",
              "0                                                                                        378\n",
              "0                                                                                        274\n",
              "1                                                                                        270\n",
              " she flipped through her study cards                                                       1\n",
              " Reagan                                                                                    1\n",
              " but heâs shopping for a house outside the city. âYou come from no money for food      1\n",
              "Name: label, dtype: int64"
            ]
          },
          "metadata": {},
          "execution_count": 15
        }
      ]
    },
    {
      "cell_type": "markdown",
      "metadata": {
        "id": "ofF5-WR7_R3i"
      },
      "source": [
        "**Preprocessing Dataset**"
      ]
    },
    {
      "cell_type": "code",
      "metadata": {
        "id": "Yw0SyCIh6Yao"
      },
      "source": [
        "# Remove digits in texts\n",
        "\n",
        "def remove_digits(text):\n",
        "    digits = [str(x) for x in range(10)]\n",
        "    for d in digits:\n",
        "        text = text.replace(d, ' ')\n",
        "    return text"
      ],
      "execution_count": 20,
      "outputs": []
    },
    {
      "cell_type": "code",
      "metadata": {
        "colab": {
          "base_uri": "https://localhost:8080/",
          "height": 203
        },
        "id": "6s-e61r16ZtA",
        "outputId": "3e253d88-cc8d-4102-ce9f-fb7b562686f2"
      },
      "source": [
        "df['news'] = df['news'].apply(lambda x: remove_digits(x))\n",
        "df.head()"
      ],
      "execution_count": 21,
      "outputs": [
        {
          "output_type": "execute_result",
          "data": {
            "text/html": [
              "<div>\n",
              "<style scoped>\n",
              "    .dataframe tbody tr th:only-of-type {\n",
              "        vertical-align: middle;\n",
              "    }\n",
              "\n",
              "    .dataframe tbody tr th {\n",
              "        vertical-align: top;\n",
              "    }\n",
              "\n",
              "    .dataframe thead th {\n",
              "        text-align: right;\n",
              "    }\n",
              "</style>\n",
              "<table border=\"1\" class=\"dataframe\">\n",
              "  <thead>\n",
              "    <tr style=\"text-align: right;\">\n",
              "      <th></th>\n",
              "      <th>news</th>\n",
              "      <th>label</th>\n",
              "    </tr>\n",
              "  </thead>\n",
              "  <tbody>\n",
              "    <tr>\n",
              "      <th>0</th>\n",
              "      <td>wed    apr      syria attack symptoms consiste...</td>\n",
              "      <td>0</td>\n",
              "    </tr>\n",
              "    <tr>\n",
              "      <th>1</th>\n",
              "      <td>fri    apr      at      homs governor says us ...</td>\n",
              "      <td>0</td>\n",
              "    </tr>\n",
              "    <tr>\n",
              "      <th>2</th>\n",
              "      <td>sun    apr      death toll from aleppo bomb at...</td>\n",
              "      <td>0</td>\n",
              "    </tr>\n",
              "    <tr>\n",
              "      <th>3</th>\n",
              "      <td>wed    apr      aleppo bomb blast kills six sy...</td>\n",
              "      <td>0</td>\n",
              "    </tr>\n",
              "    <tr>\n",
              "      <th>4</th>\n",
              "      <td>sun    jul         syria rebels dead in fighti...</td>\n",
              "      <td>0</td>\n",
              "    </tr>\n",
              "  </tbody>\n",
              "</table>\n",
              "</div>"
            ],
            "text/plain": [
              "                                                news label\n",
              "0  wed    apr      syria attack symptoms consiste...     0\n",
              "1  fri    apr      at      homs governor says us ...     0\n",
              "2  sun    apr      death toll from aleppo bomb at...     0\n",
              "3  wed    apr      aleppo bomb blast kills six sy...     0\n",
              "4  sun    jul         syria rebels dead in fighti...     0"
            ]
          },
          "metadata": {},
          "execution_count": 21
        }
      ]
    },
    {
      "cell_type": "code",
      "metadata": {
        "id": "YH25V2PW_QRD"
      },
      "source": [
        "# Remove Punctuation\n",
        "\n",
        "import string\n",
        "\n",
        "def remove_punct(text):\n",
        "  removed = \"\".join([i for i in text if i not in string.punctuation])\n",
        "  return removed"
      ],
      "execution_count": 16,
      "outputs": []
    },
    {
      "cell_type": "code",
      "metadata": {
        "colab": {
          "base_uri": "https://localhost:8080/",
          "height": 203
        },
        "id": "YNVGpTCBClJS",
        "outputId": "46698f6a-c39b-4bf5-d470-db39ab9043fe"
      },
      "source": [
        "df['news'] = df['news'].apply(lambda x:remove_punct(x))\n",
        "df.head()"
      ],
      "execution_count": 17,
      "outputs": [
        {
          "output_type": "execute_result",
          "data": {
            "text/html": [
              "<div>\n",
              "<style scoped>\n",
              "    .dataframe tbody tr th:only-of-type {\n",
              "        vertical-align: middle;\n",
              "    }\n",
              "\n",
              "    .dataframe tbody tr th {\n",
              "        vertical-align: top;\n",
              "    }\n",
              "\n",
              "    .dataframe thead th {\n",
              "        text-align: right;\n",
              "    }\n",
              "</style>\n",
              "<table border=\"1\" class=\"dataframe\">\n",
              "  <thead>\n",
              "    <tr style=\"text-align: right;\">\n",
              "      <th></th>\n",
              "      <th>news</th>\n",
              "      <th>label</th>\n",
              "    </tr>\n",
              "  </thead>\n",
              "  <tbody>\n",
              "    <tr>\n",
              "      <th>0</th>\n",
              "      <td>Wed 05 Apr 2017 Syria attack symptoms consiste...</td>\n",
              "      <td>0</td>\n",
              "    </tr>\n",
              "    <tr>\n",
              "      <th>1</th>\n",
              "      <td>Fri 07 Apr 2017 at 0914 Homs governor says US ...</td>\n",
              "      <td>0</td>\n",
              "    </tr>\n",
              "    <tr>\n",
              "      <th>2</th>\n",
              "      <td>Sun 16 Apr 2017 Death toll from Aleppo bomb at...</td>\n",
              "      <td>0</td>\n",
              "    </tr>\n",
              "    <tr>\n",
              "      <th>3</th>\n",
              "      <td>Wed 19 Apr 2017 Aleppo bomb blast kills six Sy...</td>\n",
              "      <td>0</td>\n",
              "    </tr>\n",
              "    <tr>\n",
              "      <th>4</th>\n",
              "      <td>Sun 10 Jul 2016 29 Syria Rebels Dead in Fighti...</td>\n",
              "      <td>0</td>\n",
              "    </tr>\n",
              "  </tbody>\n",
              "</table>\n",
              "</div>"
            ],
            "text/plain": [
              "                                                news label\n",
              "0  Wed 05 Apr 2017 Syria attack symptoms consiste...     0\n",
              "1  Fri 07 Apr 2017 at 0914 Homs governor says US ...     0\n",
              "2  Sun 16 Apr 2017 Death toll from Aleppo bomb at...     0\n",
              "3  Wed 19 Apr 2017 Aleppo bomb blast kills six Sy...     0\n",
              "4  Sun 10 Jul 2016 29 Syria Rebels Dead in Fighti...     0"
            ]
          },
          "metadata": {},
          "execution_count": 17
        }
      ]
    },
    {
      "cell_type": "code",
      "metadata": {
        "id": "-t0SVozFC3Ph",
        "colab": {
          "base_uri": "https://localhost:8080/",
          "height": 417
        },
        "outputId": "754d27f0-8357-4a57-8dac-b2725cd18ee2"
      },
      "source": [
        "# Lowercase All Words in Sentences\n",
        "\n",
        "df['news'] = df.news.str.lower()\n",
        "df"
      ],
      "execution_count": 18,
      "outputs": [
        {
          "output_type": "execute_result",
          "data": {
            "text/html": [
              "<div>\n",
              "<style scoped>\n",
              "    .dataframe tbody tr th:only-of-type {\n",
              "        vertical-align: middle;\n",
              "    }\n",
              "\n",
              "    .dataframe tbody tr th {\n",
              "        vertical-align: top;\n",
              "    }\n",
              "\n",
              "    .dataframe thead th {\n",
              "        text-align: right;\n",
              "    }\n",
              "</style>\n",
              "<table border=\"1\" class=\"dataframe\">\n",
              "  <thead>\n",
              "    <tr style=\"text-align: right;\">\n",
              "      <th></th>\n",
              "      <th>news</th>\n",
              "      <th>label</th>\n",
              "    </tr>\n",
              "  </thead>\n",
              "  <tbody>\n",
              "    <tr>\n",
              "      <th>0</th>\n",
              "      <td>wed 05 apr 2017 syria attack symptoms consiste...</td>\n",
              "      <td>0</td>\n",
              "    </tr>\n",
              "    <tr>\n",
              "      <th>1</th>\n",
              "      <td>fri 07 apr 2017 at 0914 homs governor says us ...</td>\n",
              "      <td>0</td>\n",
              "    </tr>\n",
              "    <tr>\n",
              "      <th>2</th>\n",
              "      <td>sun 16 apr 2017 death toll from aleppo bomb at...</td>\n",
              "      <td>0</td>\n",
              "    </tr>\n",
              "    <tr>\n",
              "      <th>3</th>\n",
              "      <td>wed 19 apr 2017 aleppo bomb blast kills six sy...</td>\n",
              "      <td>0</td>\n",
              "    </tr>\n",
              "    <tr>\n",
              "      <th>4</th>\n",
              "      <td>sun 10 jul 2016 29 syria rebels dead in fighti...</td>\n",
              "      <td>0</td>\n",
              "    </tr>\n",
              "    <tr>\n",
              "      <th>...</th>\n",
              "      <td>...</td>\n",
              "      <td>...</td>\n",
              "    </tr>\n",
              "    <tr>\n",
              "      <th>545</th>\n",
              "      <td>sen ted cruz   commended   donald trumpâs ch...</td>\n",
              "      <td>0</td>\n",
              "    </tr>\n",
              "    <tr>\n",
              "      <th>546</th>\n",
              "      <td>report copyright violation if the christian ev...</td>\n",
              "      <td>1</td>\n",
              "    </tr>\n",
              "    <tr>\n",
              "      <th>547</th>\n",
              "      <td>for reasons unknown canadians are unable to ac...</td>\n",
              "      <td>1</td>\n",
              "    </tr>\n",
              "    <tr>\n",
              "      <th>548</th>\n",
              "      <td>\\na stunning foreign intelligence service svr ...</td>\n",
              "      <td>1</td>\n",
              "    </tr>\n",
              "    <tr>\n",
              "      <th>549</th>\n",
              "      <td>hillary clinton was campaigning for her husban...</td>\n",
              "      <td>0</td>\n",
              "    </tr>\n",
              "  </tbody>\n",
              "</table>\n",
              "<p>1354 rows × 2 columns</p>\n",
              "</div>"
            ],
            "text/plain": [
              "                                                  news label\n",
              "0    wed 05 apr 2017 syria attack symptoms consiste...     0\n",
              "1    fri 07 apr 2017 at 0914 homs governor says us ...     0\n",
              "2    sun 16 apr 2017 death toll from aleppo bomb at...     0\n",
              "3    wed 19 apr 2017 aleppo bomb blast kills six sy...     0\n",
              "4    sun 10 jul 2016 29 syria rebels dead in fighti...     0\n",
              "..                                                 ...   ...\n",
              "545  sen ted cruz   commended   donald trumpâs ch...     0\n",
              "546  report copyright violation if the christian ev...     1\n",
              "547  for reasons unknown canadians are unable to ac...     1\n",
              "548  \\na stunning foreign intelligence service svr ...     1\n",
              "549  hillary clinton was campaigning for her husban...     0\n",
              "\n",
              "[1354 rows x 2 columns]"
            ]
          },
          "metadata": {},
          "execution_count": 18
        }
      ]
    },
    {
      "cell_type": "code",
      "metadata": {
        "id": "SrrmB84CTq6R",
        "colab": {
          "base_uri": "https://localhost:8080/"
        },
        "outputId": "92d79e32-84a2-4f77-9b20-f1f44ade0c43"
      },
      "source": [
        "print(df['news'].iloc[0])"
      ],
      "execution_count": 19,
      "outputs": [
        {
          "output_type": "stream",
          "name": "stdout",
          "text": [
            "wed 05 apr 2017 syria attack symptoms consistent with nerve agent use who victims of a suspected chemical attack in syria appeared to show symptoms consistent with reaction to a nerve agent the world health organization said on wednesday some cases appear to show additional signs consistent with exposure to organophosphorus chemicals a category of chemicals that includes nerve agents who said in a statement putting the death toll at at least 70 the united states has said the deaths were caused by sarin nerve gas dropped by syrian aircraft russia has said it believes poison gas had leaked from a rebel chemical weapons depot struck by syrian bombs sarin is an organophosporus compound and a nerve agent chlorine and mustard gas which are also believed to have been used in the past in syria are not a russian defence ministry spokesman did not say what agent was used in the attack but said the rebels had used the same chemical weapons in aleppo last year the who said it was likely that some kind of chemical was used in the attack because sufferers had no apparent external injuries and died from a rapid onset of similar symptoms including acute respiratory distress it said its experts in turkey were giving guidance to overwhelmed health workers in idlib on the diagnosis and treatment of patients and medicines such as atropine an antidote for some types of chemical exposure and steroids for symptomatic treatment had been sent a un commission of inquiry into human rights in syria has previously said forces loyal to syrian president bashar alassad have used lethal chlorine gas on multiple occasions hundreds of civilians died in a sarin gas attack in ghouta on the outskirts of damascus in august 2013 assads government has always denied responsibility for that attack syria agreed to destroy its chemical weapons in 2013 under a deal brokered by moscow and washington but russia a syrian ally and china have repeatedly vetoed any united nations move to sanction assad or refer the situation in syria to the international criminal court these types of weapons are banned by international law because they represent an intolerable barbarism peter salama executive director of the who health emergencies programme said in the who statement  reuters\n"
          ]
        }
      ]
    },
    {
      "cell_type": "code",
      "metadata": {
        "id": "nQTS6RPz6RS1"
      },
      "source": [
        "# Remove non-english words\n",
        "\n",
        "def non_english(data):\n",
        "    data = re.sub(r'\\W+', ' ', data)\n",
        "    data = data.lower()\n",
        "    data = data.replace(\"[^a-zA-Z]\", \" \")\n",
        "    word_tokens = word_tokenize(data)\n",
        "    filtered_word = [w for w in word_tokens if all(ord(c) < 128 for c in w)]\n",
        "    filtered_word = [w + \" \" for w in filtered_word]\n",
        "    return \"\".join(filtered_word)"
      ],
      "execution_count": 22,
      "outputs": []
    },
    {
      "cell_type": "code",
      "metadata": {
        "colab": {
          "base_uri": "https://localhost:8080/"
        },
        "id": "ILeEAqm_6hQ0",
        "outputId": "381a7e74-33dd-4ff4-ae59-d2ce62e1a735"
      },
      "source": [
        "nltk.download('punkt')\n",
        "df['news'] = df['news'].apply(non_english)"
      ],
      "execution_count": 25,
      "outputs": [
        {
          "output_type": "stream",
          "name": "stdout",
          "text": [
            "[nltk_data] Downloading package punkt to /root/nltk_data...\n",
            "[nltk_data]   Unzipping tokenizers/punkt.zip.\n"
          ]
        }
      ]
    },
    {
      "cell_type": "code",
      "metadata": {
        "colab": {
          "base_uri": "https://localhost:8080/"
        },
        "id": "p1FnxH0j6qN-",
        "outputId": "34005229-b079-43b9-cef4-9c97cd80db42"
      },
      "source": [
        "df['news']"
      ],
      "execution_count": 26,
      "outputs": [
        {
          "output_type": "execute_result",
          "data": {
            "text/plain": [
              "0      wed apr syria attack symptoms consistent with ...\n",
              "1      fri apr at homs governor says us attack caused...\n",
              "2      sun apr death toll from aleppo bomb attack at ...\n",
              "3      wed apr aleppo bomb blast kills six syrian sta...\n",
              "4      sun jul syria rebels dead in fighting for key ...\n",
              "                             ...                        \n",
              "545    sen ted cruz commended donald s choices for hi...\n",
              "546    report copyright violation if the christian ev...\n",
              "547    for reasons unknown canadians are unable to ac...\n",
              "548    a stunning foreign intelligence service svr re...\n",
              "549    hillary clinton was campaigning for her husban...\n",
              "Name: news, Length: 1354, dtype: object"
            ]
          },
          "metadata": {},
          "execution_count": 26
        }
      ]
    },
    {
      "cell_type": "code",
      "metadata": {
        "id": "EOwrphB3XM5V"
      },
      "source": [
        "# Train Test Split\n",
        "\n",
        "from sklearn.model_selection import train_test_split\n",
        "\n",
        "berita = df['news'].to_numpy()\n",
        "y = df['label'].to_numpy()\n",
        "\n",
        "x_train, x_test, y_train, y_test = train_test_split(berita, y, test_size = 0.2) # 80:20"
      ],
      "execution_count": 27,
      "outputs": []
    },
    {
      "cell_type": "code",
      "metadata": {
        "id": "QrUHVyEoaqyn"
      },
      "source": [
        "# Tokenize Data (Sentence Into Words)\n",
        "\n",
        "from keras.preprocessing.text import Tokenizer\n",
        "from keras.preprocessing.sequence import pad_sequences\n",
        "\n",
        "tokenizer = Tokenizer(num_words=1000)\n",
        "tokenizer.fit_on_texts(x_train)\n",
        "tokenizer.fit_on_texts(x_test)\n",
        "xsequences = tokenizer.texts_to_sequences(x_train)\n",
        "xssequences = tokenizer.texts_to_sequences(x_test)\n",
        "\n",
        "x_train_new = pad_sequences(xsequences)\n",
        "x_test_new = pad_sequences(xssequences)\n"
      ],
      "execution_count": 28,
      "outputs": []
    },
    {
      "cell_type": "markdown",
      "metadata": {
        "id": "7hRmom7odmMl"
      },
      "source": [
        "**Build Model**"
      ]
    },
    {
      "cell_type": "code",
      "metadata": {
        "id": "btRa490zawHp"
      },
      "source": [
        "import tensorflow as tf\n",
        "\n",
        "model = tf.keras.Sequential()\n",
        "model.add(tf.keras.layers.Embedding(1000, 128))\n",
        "# Using 1 LSTM Layer and 3 Dense Layer\n",
        "model.add(tf.keras.layers.LSTM(128, dropout=0.4))\n",
        "model.add(tf.keras.layers.Dense(496, activation='relu'))\n",
        "model.add(tf.keras.layers.Dropout(0.2))\n",
        "model.add(tf.keras.layers.Dense(215, activation='relu'))\n",
        "model.add(tf.keras.layers.Dropout(0.5))\n",
        "model.add(tf.keras.layers.Dense(1, activation='relu'))\n",
        "\n",
        "\n",
        "model.compile(loss='binary_crossentropy', optimizer = 'adam', metrics=['accuracy'])"
      ],
      "execution_count": 29,
      "outputs": []
    },
    {
      "cell_type": "code",
      "metadata": {
        "id": "mMFV_Fu_zCyp"
      },
      "source": [
        "# Callback Function\n",
        "\n",
        "class callback(tf.keras.callbacks.Callback):\n",
        "  def stop_epoch(self, epoch, logs={}):\n",
        "    if(logs.get('accuracy')>0.96): # End iteration if accuracy > 96%\n",
        "      print(\"End of Epochs\")\n",
        "      self.model.stop_epoch = True\n",
        "\n",
        "callbacks = callback()"
      ],
      "execution_count": 30,
      "outputs": []
    },
    {
      "cell_type": "markdown",
      "metadata": {
        "id": "c0Jom0pzlgtF"
      },
      "source": [
        "**Training Session**"
      ]
    },
    {
      "cell_type": "code",
      "metadata": {
        "colab": {
          "base_uri": "https://localhost:8080/"
        },
        "id": "Zl7okxM7Qhmu",
        "outputId": "1e72230f-ac3a-4d2e-c449-c64c1a5afa17"
      },
      "source": [
        "model.fit(x_train_new, y_train, batch_size=128, epochs=10,\n",
        "          validation_data=(x_test_new, y_test),\n",
        "          verbose=1, callbacks=[callbacks])"
      ],
      "execution_count": null,
      "outputs": [
        {
          "output_type": "stream",
          "name": "stdout",
          "text": [
            "Epoch 1/10\n",
            "5/5 [==============================] - 166s 29s/step - loss: nan - accuracy: 0.4929 - val_loss: nan - val_accuracy: 0.4752\n",
            "Epoch 2/10\n",
            "5/5 [==============================] - 147s 28s/step - loss: nan - accuracy: 0.4929 - val_loss: nan - val_accuracy: 0.4752\n",
            "Epoch 3/10\n",
            "5/5 [==============================] - 145s 28s/step - loss: nan - accuracy: 0.4929 - val_loss: nan - val_accuracy: 0.4752\n",
            "Epoch 4/10\n",
            "5/5 [==============================] - 178s 34s/step - loss: nan - accuracy: 0.4929 - val_loss: nan - val_accuracy: 0.4752\n",
            "Epoch 5/10\n",
            "5/5 [==============================] - 165s 30s/step - loss: nan - accuracy: 0.4929 - val_loss: nan - val_accuracy: 0.4752\n",
            "Epoch 6/10\n",
            "5/5 [==============================] - 150s 28s/step - loss: nan - accuracy: 0.4929 - val_loss: nan - val_accuracy: 0.4752\n",
            "Epoch 7/10\n",
            "5/5 [==============================] - 175s 34s/step - loss: nan - accuracy: 0.4929 - val_loss: nan - val_accuracy: 0.4752\n",
            "Epoch 8/10\n",
            "5/5 [==============================] - 144s 26s/step - loss: nan - accuracy: 0.4929 - val_loss: nan - val_accuracy: 0.4752\n",
            "Epoch 9/10\n",
            "5/5 [==============================] - 159s 31s/step - loss: nan - accuracy: 0.4929 - val_loss: nan - val_accuracy: 0.4752\n",
            "Epoch 10/10\n",
            "5/5 [==============================] - 133s 24s/step - loss: nan - accuracy: 0.4929 - val_loss: nan - val_accuracy: 0.4752\n"
          ]
        },
        {
          "output_type": "execute_result",
          "data": {
            "text/plain": [
              "<keras.callbacks.History at 0x7fbb4f6c88d0>"
            ]
          },
          "metadata": {},
          "execution_count": 18
        }
      ]
    },
    {
      "cell_type": "code",
      "metadata": {
        "colab": {
          "base_uri": "https://localhost:8080/"
        },
        "id": "S4sc6aQdA6Qq",
        "outputId": "2a621498-9ad7-427e-a2e6-46320d6f18d7"
      },
      "source": [
        "model.fit(x_train_new, y_train, batch_size=128, epochs=10,\n",
        "          validation_data=(x_test_new, y_test),\n",
        "          verbose=1, callbacks=[callbacks])"
      ],
      "execution_count": null,
      "outputs": [
        {
          "output_type": "stream",
          "name": "stdout",
          "text": [
            "Epoch 1/10\n",
            "9/9 [==============================] - 436s 48s/step - loss: 0.2215 - accuracy: 0.9185 - val_loss: 1.3916 - val_accuracy: 0.7778\n",
            "Epoch 2/10\n",
            "9/9 [==============================] - 436s 49s/step - loss: 0.2181 - accuracy: 0.9338 - val_loss: 1.4749 - val_accuracy: 0.7778\n",
            "Epoch 3/10\n",
            "9/9 [==============================] - 548s 59s/step - loss: 0.1951 - accuracy: 0.9329 - val_loss: 1.5832 - val_accuracy: 0.7969\n",
            "Epoch 4/10\n",
            "9/9 [==============================] - 328s 32s/step - loss: 0.1786 - accuracy: 0.9377 - val_loss: 1.6039 - val_accuracy: 0.8008\n",
            "Epoch 5/10\n",
            "9/9 [==============================] - 375s 39s/step - loss: 0.1695 - accuracy: 0.9473 - val_loss: 1.4595 - val_accuracy: 0.7893\n",
            "Epoch 6/10\n",
            "9/9 [==============================] - 390s 39s/step - loss: 0.1492 - accuracy: 0.9597 - val_loss: 1.7741 - val_accuracy: 0.8161\n",
            "Epoch 7/10\n",
            "9/9 [==============================] - 418s 43s/step - loss: 0.1793 - accuracy: 0.9569 - val_loss: 1.7394 - val_accuracy: 0.8046\n",
            "Epoch 8/10\n",
            "9/9 [==============================] - 403s 46s/step - loss: 0.2049 - accuracy: 0.9549 - val_loss: 1.8007 - val_accuracy: 0.7969\n",
            "Epoch 9/10\n",
            "9/9 [==============================] - 411s 43s/step - loss: 0.1867 - accuracy: 0.9703 - val_loss: 1.9125 - val_accuracy: 0.7969\n",
            "Epoch 10/10\n",
            "9/9 [==============================] - 343s 40s/step - loss: 0.2224 - accuracy: 0.9607 - val_loss: 2.0065 - val_accuracy: 0.7931\n"
          ]
        },
        {
          "output_type": "execute_result",
          "data": {
            "text/plain": [
              "<keras.callbacks.History at 0x7ffb6f969810>"
            ]
          },
          "metadata": {},
          "execution_count": 32
        }
      ]
    },
    {
      "cell_type": "markdown",
      "metadata": {
        "id": "uyVqxMt9lkvR"
      },
      "source": [
        "**Testing Session**"
      ]
    },
    {
      "cell_type": "code",
      "metadata": {
        "id": "jB7cEbvKBAEB"
      },
      "source": [
        "prediction = model.predict(x_test_new)"
      ],
      "execution_count": null,
      "outputs": []
    },
    {
      "cell_type": "code",
      "metadata": {
        "colab": {
          "base_uri": "https://localhost:8080/"
        },
        "id": "clmaoYRUqxZe",
        "outputId": "3dee4abc-32bf-4228-f8fd-74bd8174e093"
      },
      "source": [
        "# history = model.fit(x_test_new, y_test)"
      ],
      "execution_count": null,
      "outputs": [
        {
          "name": "stdout",
          "output_type": "stream",
          "text": [
            "7/7 [==============================] - 61s 9s/step - loss: 0.9795 - accuracy: 0.8392\n"
          ]
        }
      ]
    },
    {
      "cell_type": "code",
      "metadata": {
        "colab": {
          "base_uri": "https://localhost:8080/"
        },
        "id": "Nqxpxr8nBJVS",
        "outputId": "21b5b132-eb85-454b-91cb-03a923183428"
      },
      "source": [
        "history = model.fit(x_test_new, y_test)"
      ],
      "execution_count": null,
      "outputs": [
        {
          "output_type": "stream",
          "name": "stdout",
          "text": [
            "9/9 [==============================] - 213s 24s/step - loss: 1.7493 - accuracy: 0.7816\n"
          ]
        }
      ]
    },
    {
      "cell_type": "markdown",
      "metadata": {
        "id": "jn2zwLidwU2m"
      },
      "source": [
        "-- It can be concluded that the model has the latest accuracy on the testing data of 78% "
      ]
    }
  ]
}